{
 "cells": [
  {
   "cell_type": "markdown",
   "id": "norman-silicon",
   "metadata": {
    "pycharm": {
     "name": "#%% md\n"
    }
   },
   "source": [
    "# Chapter 1 - Data characterization and description\n",
    "\n",
    "Key concepts:\n",
    "\n",
    "Source of data \n",
    " - Observational study or experiment (with observational or experimental units)\n",
    " - Confounding variables\n",
    " - Bias\n",
    "\n",
    "Type of data\n",
    " - Units of measure\n",
    " - Categorical (ordinal, binary)\n",
    " - Numerical (discrete, continuous)"
   ]
  },
  {
   "cell_type": "markdown",
   "id": "pending-navigation",
   "metadata": {
    "pycharm": {
     "name": "#%% md\n"
    }
   },
   "source": [
    "# Exercises"
   ]
  },
  {
   "cell_type": "markdown",
   "id": "opposite-immune",
   "metadata": {
    "pycharm": {
     "name": "#%% md\n"
    }
   },
   "source": [
    "## Exercise 1.1 - Types of data and variables"
   ]
  },
  {
   "cell_type": "code",
   "execution_count": null,
   "id": "violent-desktop",
   "metadata": {
    "pycharm": {
     "name": "#%%\n"
    }
   },
   "outputs": [],
   "source": []
  },
  {
   "cell_type": "markdown",
   "id": "lyric-definition",
   "metadata": {
    "pycharm": {
     "name": "#%% md\n"
    }
   },
   "source": [
    "## Exercise 1.2 - Why is empirical data important in science?"
   ]
  },
  {
   "cell_type": "code",
   "execution_count": null,
   "id": "peripheral-problem",
   "metadata": {
    "pycharm": {
     "name": "#%%\n"
    }
   },
   "outputs": [],
   "source": []
  },
  {
   "cell_type": "markdown",
   "id": "hydraulic-breakfast",
   "metadata": {
    "pycharm": {
     "name": "#%% md\n"
    }
   },
   "source": [
    "## Exercise 1.3 - My first Jupyter notebook"
   ]
  },
  {
   "cell_type": "code",
   "execution_count": 1,
   "id": "endangered-proxy",
   "metadata": {
    "pycharm": {
     "name": "#%%\n"
    }
   },
   "outputs": [
    {
     "data": {
      "text/plain": [
       "4"
      ]
     },
     "execution_count": 1,
     "metadata": {},
     "output_type": "execute_result"
    }
   ],
   "source": [
    "2+2"
   ]
  },
  {
   "cell_type": "markdown",
   "id": "designed-instrumentation",
   "metadata": {
    "pycharm": {
     "name": "#%% md\n"
    }
   },
   "source": [
    "# This is a head line\n",
    "Some text.\n",
    "* a bullet point\n",
    "* another bullet point\n",
    "\n",
    "## This is a section\n",
    "A straight line\n",
    "$$ y = ax + b $$\n",
    "has the slope $a$.\n",
    "\n",
    "1. First item\n",
    "2. Second item\n",
    "\n",
    "### This is a subsection\n",
    "[Link to RUC](https://ruc.dk)\n",
    "![RUC logo](https://upload.wikimedia.org/wikipedia/commons/a/a4/Ruc.png)\n",
    "\n",
    "A table with ATP concentration in birch tree roots (nmol/mg):\n",
    "\n",
    "| Flooded | Control |\n",
    "|---------|---------|\n",
    "|   1.45  |   1.80  |\n",
    "|   1.19  |   2.04  |\n",
    "|   1.04  |   1.49  |\n",
    "|   1.07  |   1.91  |"
   ]
  },
  {
   "cell_type": "code",
   "execution_count": 1,
   "id": "western-superior",
   "metadata": {
    "pycharm": {
     "name": "#%%\n"
    }
   },
   "outputs": [],
   "source": [
    "# A TEST THE STUDENTS MIGHT WANT TO DO: CHECK IF THEY CAN IMPORT MATPLOTLIB, PANDAS AND NUMPY:\n",
    "import pandas as pd\n",
    "import numpy as np\n",
    "import matplotlib.pyplot as plt"
   ]
  },
  {
   "cell_type": "code",
   "execution_count": null,
   "id": "7fab4217",
   "metadata": {
    "pycharm": {
     "name": "#%%\n"
    }
   },
   "outputs": [],
   "source": []
  }
 ],
 "metadata": {
  "kernelspec": {
   "display_name": "Python 3",
   "language": "python",
   "name": "python3"
  },
  "language_info": {
   "codemirror_mode": {
    "name": "ipython",
    "version": 3
   },
   "file_extension": ".py",
   "mimetype": "text/x-python",
   "name": "python",
   "nbconvert_exporter": "python",
   "pygments_lexer": "ipython3",
   "version": "3.9.2"
  }
 },
 "nbformat": 4,
 "nbformat_minor": 5
}