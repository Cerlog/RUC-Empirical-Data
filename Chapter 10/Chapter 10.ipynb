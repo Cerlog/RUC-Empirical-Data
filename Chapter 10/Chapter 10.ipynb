{
 "cells": [
  {
   "cell_type": "markdown",
   "source": [
    "## 10.3.4 Python and the normal-distribution\n",
    "\n",
    "The randn() function of the NumPy module draw random numbers from the normal distribution.\n",
    "The randn() returns a value from the distrinution with zero mean and standard deviation\n",
    "of one. To simulate a chance operation where the outcomes would follow a normal distribution\n",
    "with mean $\\mu$ of u = 17.0 and standard deviation $\\sigma$ of s = 4.0, then type (notice that we\n",
    "for the sake of simplicity use u and s)."
   ],
   "metadata": {
    "collapsed": false,
    "pycharm": {
     "name": "#%% md\n"
    }
   }
  },
  {
   "cell_type": "code",
   "execution_count": 41,
   "outputs": [
    {
     "data": {
      "text/plain": "21.675317843406013"
     },
     "execution_count": 41,
     "metadata": {},
     "output_type": "execute_result"
    }
   ],
   "source": [
    "from numpy.random import randn # random (normal distribution)\n",
    "u = 17.0\n",
    "s = 4.0\n",
    "randn() * s + u"
   ],
   "metadata": {
    "collapsed": false,
    "pycharm": {
     "name": "#%%\n"
    }
   }
  },
  {
   "cell_type": "markdown",
   "source": [
    "The first line imports the function randn(). Random numbers are handy to simulate an\n",
    "observational study or an experiment. We can specify an input parameter to randn() to a\n",
    "sample of random numbers. Let us imagine that we want to simulate that we have made 4\n",
    "meassuments."
   ],
   "metadata": {
    "collapsed": false,
    "pycharm": {
     "name": "#%% md\n"
    }
   }
  },
  {
   "cell_type": "code",
   "execution_count": 42,
   "outputs": [
    {
     "data": {
      "text/plain": "array([13.49876467, 19.65102998, 13.74109722, 18.24490886])"
     },
     "execution_count": 42,
     "metadata": {},
     "output_type": "execute_result"
    }
   ],
   "source": [
    "N = 4 # Size of sample\n",
    "randn(N) * s + u"
   ],
   "metadata": {
    "collapsed": false,
    "pycharm": {
     "name": "#%%\n"
    }
   }
  },
  {
   "cell_type": "markdown",
   "source": [
    "This time, the function randn() returns a NumPy array. We can store data in a Pandas series\n",
    "named data."
   ],
   "metadata": {
    "collapsed": false,
    "pycharm": {
     "name": "#%% md\n"
    }
   }
  },
  {
   "cell_type": "code",
   "execution_count": 43,
   "outputs": [],
   "source": [
    "import pandas as pd"
   ],
   "metadata": {
    "collapsed": false,
    "pycharm": {
     "name": "#%%\n"
    }
   }
  },
  {
   "cell_type": "code",
   "execution_count": 44,
   "outputs": [
    {
     "data": {
      "text/plain": "0    17.314405\n1    11.601451\n2    16.054313\n3    13.722576\ndtype: float64"
     },
     "execution_count": 44,
     "metadata": {},
     "output_type": "execute_result"
    }
   ],
   "source": [
    "N = 4 # Size of sample\n",
    "u = 17.0 # Mean\n",
    "s = 4.0 # Standard deviation\n",
    "data = pd.Series(randn(N) * s + u)\n",
    "data"
   ],
   "metadata": {
    "collapsed": false,
    "pycharm": {
     "name": "#%%\n"
    }
   }
  },
  {
   "cell_type": "markdown",
   "source": [
    "For a sample size of 1000 we write."
   ],
   "metadata": {
    "collapsed": false,
    "pycharm": {
     "name": "#%% md\n"
    }
   }
  },
  {
   "cell_type": "code",
   "execution_count": 45,
   "outputs": [
    {
     "data": {
      "text/plain": "0    17.698884\n1    15.695675\n2    23.829596\n3    20.612696\n4    19.230978\n5    18.125415\ndtype: float64"
     },
     "execution_count": 45,
     "metadata": {},
     "output_type": "execute_result"
    }
   ],
   "source": [
    "N = 1000\n",
    "u = 17.0\n",
    "s = 4.0\n",
    "data = pd.Series(randn(N)*s + u)\n",
    "data.head(6)"
   ],
   "metadata": {
    "collapsed": false,
    "pycharm": {
     "name": "#%%\n"
    }
   }
  },
  {
   "cell_type": "markdown",
   "source": [
    "This time, the data set is to large to print to the screen, thus we used the .head(6) method\n",
    "to display the first six entries. We can now investigate this simulated data as if it was real\n",
    "empirical data. Let us plot the distribution."
   ],
   "metadata": {
    "collapsed": false,
    "pycharm": {
     "name": "#%% md\n"
    }
   }
  },
  {
   "cell_type": "code",
   "execution_count": 46,
   "outputs": [
    {
     "data": {
      "text/plain": "Text(0, 0.5, 'Distribution')"
     },
     "execution_count": 46,
     "metadata": {},
     "output_type": "execute_result"
    },
    {
     "data": {
      "text/plain": "<Figure size 400x300 with 1 Axes>",
      "image/png": "[encoded data removed]"
     },
     "metadata": {},
     "output_type": "display_data"
    }
   ],
   "source": [
    "import matplotlib.pyplot as plt\n",
    "import numpy as np\n",
    "\n",
    "# Plot distribution of simulated data\n",
    "data.plot.hist(\n",
    "    figsize=(4, 3),\n",
    "    bins=np.arange(0, 35, 1.0), # from 0 to 35 in steps 1.0\n",
    "    density = True\n",
    ")\n",
    "\n",
    "# Plot normal distribution\n",
    "y = np.arange(0, 35, 0.1)\n",
    "N = np.sqrt(2*np.pi)*s\n",
    "arg = -0.5*(y-u)**2/s**2 # argument for exponential\n",
    "f = np.exp(arg)/N\n",
    "plt.plot(y, f, 'r-') # 'r-' makes a red line\n",
    "\n",
    "plt.xlabel('Measured value')\n",
    "plt.ylabel('Distribution')"
   ],
   "metadata": {
    "collapsed": false,
    "pycharm": {
     "name": "#%%\n"
    }
   }
  },
  {
   "cell_type": "markdown",
   "source": [
    "#### The cumulative distribution function\n",
    "The plot.hist function can show the cumulative distribution function (CDF) when using the\n",
    "input cumulative=True."
   ],
   "metadata": {
    "collapsed": false,
    "pycharm": {
     "name": "#%% md\n"
    }
   }
  },
  {
   "cell_type": "code",
   "execution_count": 47,
   "outputs": [
    {
     "data": {
      "text/plain": "[<matplotlib.lines.Line2D at 0x2204759c820>]"
     },
     "execution_count": 47,
     "metadata": {},
     "output_type": "execute_result"
    },
    {
     "data": {
      "text/plain": "<Figure size 400x300 with 1 Axes>",
      "image/png": "[encoded data removed]"
     },
     "metadata": {},
     "output_type": "display_data"
    }
   ],
   "source": [
    "# cumulative distribution of simulated data\n",
    "data.plot.hist(\n",
    "    figsize=(4, 3),\n",
    "    bins=np.arange(0, 35, 1.0), # from 0 to 35, in steps 1.0\n",
    "    density = True,\n",
    "    cumulative = True # Plot the cumulative distribution function\n",
    ")\n",
    "\n",
    "# Theoretical CDF of normal distribution\n",
    "from scipy.stats import norm\n",
    "y = np.arange(0, 35, 0.1)\n",
    "cdf = norm.cdf(y, u, s)\n",
    "plt.plot(y, cdf, 'r-')"
   ],
   "metadata": {
    "collapsed": false,
    "pycharm": {
     "name": "#%%\n"
    }
   }
  },
  {
   "cell_type": "markdown",
   "source": [
    "The red line shows the theoretical CDF of the normal distribution. Here, we used the implementation\n",
    "of the SciPy module. The normal distribution is imported with from scipy.stats\n",
    "import norm. After, the associated CDF be accessed with the method norm.cdf(y, u, s).\n",
    "Again, u is the mean ($\\mu$), and s is the standard deviation ($\\sigma$).\n",
    "\n",
    "It can be convinient to show the cumulative distribution with the meassued values y shifted by\n",
    "the mean $\\mu$, and scaled by standard deviation $\\sigma$: ($y-\\mu$)/$\\sigma$. The CDF of the normal distribution\n",
    "plotted this way looks like this."
   ],
   "metadata": {
    "collapsed": false,
    "pycharm": {
     "name": "#%% md\n"
    }
   }
  },
  {
   "cell_type": "code",
   "execution_count": 48,
   "outputs": [
    {
     "data": {
      "text/plain": "Text(0, 0.5, 'CDF of the normal distribution')"
     },
     "execution_count": 48,
     "metadata": {},
     "output_type": "execute_result"
    },
    {
     "data": {
      "text/plain": "<Figure size 640x480 with 1 Axes>",
      "image/png": "[encoded data removed]"
     },
     "metadata": {},
     "output_type": "display_data"
    }
   ],
   "source": [
    "y = np.arange(-3.0, 3.0, 0.1)\n",
    "plt.plot(y, norm.cdf(y), 'r-')\n",
    "plt.xlim(-3.0, 3.0)\n",
    "plt.ylim(0.0, 1.0)\n",
    "plt.xlabel('$(y-\\mu)/\\sigma$')\n",
    "plt.ylabel('CDF of the normal distribution')"
   ],
   "metadata": {
    "collapsed": false,
    "pycharm": {
     "name": "#%%\n"
    }
   }
  },
  {
   "cell_type": "markdown",
   "source": [
    "## 10.3.5 How to compute meassument probabilities of the normal distribution"
   ],
   "metadata": {
    "collapsed": false,
    "pycharm": {
     "name": "#%% md\n"
    }
   }
  },
  {
   "cell_type": "markdown",
   "source": [
    "The question “What is the probability that a meassuments is between one standard deviation\n",
    "below the mean ($\\mu - \\sigma$) and one standard deviation above the mean ($\\mu + \\sigma$)?”. For the\n",
    "example with $\\mu $= 17 and $\\sigma$ = 4 this would be y values from 13 to 21. This can be written as\n",
    "$P(\\mu - \\sigma < y < \\mu + \\sigma)$ and colmputed as shown below."
   ],
   "metadata": {
    "collapsed": false,
    "pycharm": {
     "name": "#%% md\n"
    }
   }
  },
  {
   "cell_type": "code",
   "execution_count": 49,
   "outputs": [
    {
     "name": "stdout",
     "output_type": "stream",
     "text": [
      "P = 68.26894921370858%\n"
     ]
    }
   ],
   "source": [
    "y_low, y_high = 13, 21\n",
    "P = norm.cdf(y_high, u, s) - norm.cdf(y_low, u, s)\n",
    "print(f\"P = {100*P}%\")"
   ],
   "metadata": {
    "collapsed": false,
    "pycharm": {
     "name": "#%%\n"
    }
   }
  },
  {
   "cell_type": "markdown",
   "source": [
    "The probability that y is within the interval of two standard deviations away from the mean\n",
    "is, $P(\\mu - 2\\sigma < y < \\mu + 2\\sigma)$. For the example this would be y values from 9 to 25."
   ],
   "metadata": {
    "collapsed": false,
    "pycharm": {
     "name": "#%% md\n"
    }
   }
  },
  {
   "cell_type": "code",
   "execution_count": 50,
   "outputs": [
    {
     "name": "stdout",
     "output_type": "stream",
     "text": [
      "P = 95.44997361036415\n"
     ]
    }
   ],
   "source": [
    "y_low, y_high = 9, 25\n",
    "P = norm.cdf(y_high, u, s) - norm.cdf(y_low, u ,s )\n",
    "print(f\"P = {100*P}\")"
   ],
   "metadata": {
    "collapsed": false,
    "pycharm": {
     "name": "#%%\n"
    }
   }
  },
  {
   "cell_type": "markdown",
   "source": [
    "These are the same probabilities as can be seen in the box on page 165 (but with more accuracy)."
   ],
   "metadata": {
    "collapsed": false,
    "pycharm": {
     "name": "#%% md\n"
    }
   }
  },
  {
   "cell_type": "markdown",
   "source": [
    "## Exercise 10.7: Plot of the normal distributions\n",
    "\n",
    "Use the NumPy and matplotlib modules to plot three normal-distributions in a Jupyter\n",
    "Notebook. Let mean of all distributions be $\\mu$ = 17:0 and standard deviations be $\\sigma$ = 2:0,\n",
    "$\\sigma$ = 4:0 and $\\sigma$ = 8:0, respectively.\n",
    "1. Does the area under the curve seem to be the same for the three curves (and should\n",
    "they)?"
   ],
   "metadata": {
    "collapsed": false,
    "pycharm": {
     "name": "#%% md\n"
    }
   }
  },
  {
   "cell_type": "code",
   "execution_count": 51,
   "outputs": [
    {
     "data": {
      "text/plain": "<Figure size 640x480 with 1 Axes>",
      "image/png": "[encoded data removed]"
     },
     "metadata": {},
     "output_type": "display_data"
    }
   ],
   "source": [
    "mu = 10.0\n",
    "sigma_1 = 2.0\n",
    "sigma_2 = 4.0\n",
    "sigma_3 = 8.0\n",
    "\n",
    "def normal_dist(sigma: float, colour: str):\n",
    "    y = np.arange(0, 35, 0.1)\n",
    "    N = np.sqrt(2*np.pi)*sigma\n",
    "    arg = -0.5*(y-u)**2/sigma**2\n",
    "    f = np.exp(arg)/N\n",
    "    plt.plot(y, f, colour)\n",
    "    plt.xlabel('Measured value')\n",
    "    plt.ylabel('Distribution')\n",
    "\n",
    "normal_dist(sigma_1, 'r-')\n",
    "normal_dist(sigma_2, 'b-')\n",
    "normal_dist(sigma_3, 'g-')"
   ],
   "metadata": {
    "collapsed": false,
    "pycharm": {
     "name": "#%%\n"
    }
   }
  },
  {
   "cell_type": "markdown",
   "source": [
    "2. What happens to the shape of the distribution as $\\sigma$ is increasing?\n",
    "3. How does your answer agree with the fact that $\\sigma$ describe deviation from mean?"
   ],
   "metadata": {
    "collapsed": false,
    "pycharm": {
     "name": "#%% md\n"
    }
   }
  },
  {
   "cell_type": "markdown",
   "source": [
    "## 10.4.3 Simulating a meta-study with Python"
   ],
   "metadata": {
    "collapsed": false,
    "pycharm": {
     "name": "#%% md\n"
    }
   }
  },
  {
   "cell_type": "code",
   "execution_count": 52,
   "outputs": [],
   "source": [
    "mu = 30     # Theoretical mean\n",
    "sigma = 10  # Theoretical standard deviation\n",
    "n = 4       # Samples in each meta-experiment\n",
    "experiments = 1000 # Number of meta-experiments\n",
    "\n",
    "import pandas as pd\n",
    "from numpy.random import randn # Draw values from normal distribution\n",
    "df = pd.DataFrame(sigma*randn(experiments, n) + mu)\n",
    "df['sample mean'] = df.mean(axis='columns')"
   ],
   "metadata": {
    "collapsed": false,
    "pycharm": {
     "name": "#%%\n"
    }
   }
  },
  {
   "cell_type": "code",
   "execution_count": 53,
   "outputs": [
    {
     "data": {
      "text/plain": "Text(0.5, 0, 'Mean is the sample with n= 4')"
     },
     "execution_count": 53,
     "metadata": {},
     "output_type": "execute_result"
    },
    {
     "data": {
      "text/plain": "<Figure size 640x480 with 1 Axes>",
      "image/png": "[encoded data removed]"
     },
     "metadata": {},
     "output_type": "display_data"
    }
   ],
   "source": [
    "import matplotlib.pyplot as plt\n",
    "from numpy import arange\n",
    "df['sample mean'].hist(bins=arange(10, 50, 2))\n",
    "plt.xlim(10, 50)\n",
    "plt.xlabel(f'Mean is the sample with n= {n}')"
   ],
   "metadata": {
    "collapsed": false,
    "pycharm": {
     "name": "#%%\n"
    }
   }
  },
  {
   "cell_type": "markdown",
   "source": [
    "# T_value"
   ],
   "metadata": {
    "collapsed": false,
    "pycharm": {
     "name": "#%% md\n"
    }
   }
  },
  {
   "cell_type": "code",
   "execution_count": 54,
   "outputs": [],
   "source": [
    "from scipy import stats\n",
    "confidence_interval = 0.95 # Confidence interval (95%)\n",
    "P = 1 - confidence_interval # Remaining probability (5%)\n",
    "n = 30                      # Number of samples\n",
    "f = n - 1                   # Degrees of freedom\n",
    "t = stats.t.ppf(1-P/2, f)   # Correction factor"
   ],
   "metadata": {
    "collapsed": false,
    "pycharm": {
     "name": "#%%\n"
    }
   }
  },
  {
   "cell_type": "code",
   "execution_count": 55,
   "outputs": [
    {
     "data": {
      "text/plain": "2.045229642132703"
     },
     "execution_count": 55,
     "metadata": {},
     "output_type": "execute_result"
    }
   ],
   "source": [
    "t"
   ],
   "metadata": {
    "collapsed": false,
    "pycharm": {
     "name": "#%%\n"
    }
   }
  },
  {
   "cell_type": "markdown",
   "source": [
    "## 10.4.7 Confidence intervals with Python\n",
    "\n",
    "Let us revisit the experiment where a student raises n = 4 rats on a Kinder Milk-Slice and\n",
    "meassure how much weight the rats have gained. Below are the weight gains in grams of an\n",
    "actual meassuent.\n",
    "\n",
    "We will now answer the question: What is best estimate of average weight gain, and what is\n",
    "the 95% confidence interval of this estimate. First, we type the data into a Pandas DataFrame."
   ],
   "metadata": {
    "collapsed": false,
    "pycharm": {
     "name": "#%% md\n"
    }
   }
  },
  {
   "cell_type": "code",
   "execution_count": 56,
   "outputs": [
    {
     "data": {
      "text/plain": "   Weight gain\n0         30.7\n1         25.7\n2         26.6\n3         25.9",
      "text/html": "<div>\n<style scoped>\n    .dataframe tbody tr th:only-of-type {\n        vertical-align: middle;\n    }\n\n    .dataframe tbody tr th {\n        vertical-align: top;\n    }\n\n    .dataframe thead th {\n        text-align: right;\n    }\n</style>\n<table border=\"1\" class=\"dataframe\">\n  <thead>\n    <tr style=\"text-align: right;\">\n      <th></th>\n      <th>Weight gain</th>\n    </tr>\n  </thead>\n  <tbody>\n    <tr>\n      <th>0</th>\n      <td>30.7</td>\n    </tr>\n    <tr>\n      <th>1</th>\n      <td>25.7</td>\n    </tr>\n    <tr>\n      <th>2</th>\n      <td>26.6</td>\n    </tr>\n    <tr>\n      <th>3</th>\n      <td>25.9</td>\n    </tr>\n  </tbody>\n</table>\n</div>"
     },
     "execution_count": 56,
     "metadata": {},
     "output_type": "execute_result"
    }
   ],
   "source": [
    "import pandas as pd\n",
    "df = pd.DataFrame({\n",
    "    'Weight gain': [30.7, 25.7, 26.6, 25.9]\n",
    "})\n",
    "df"
   ],
   "metadata": {
    "collapsed": false,
    "pycharm": {
     "name": "#%%\n"
    }
   }
  },
  {
   "cell_type": "markdown",
   "source": [
    "The sample mean is our best estimate for the average weight gain"
   ],
   "metadata": {
    "collapsed": false,
    "pycharm": {
     "name": "#%% md\n"
    }
   }
  },
  {
   "cell_type": "code",
   "execution_count": 57,
   "outputs": [
    {
     "name": "stdout",
     "output_type": "stream",
     "text": [
      "The sample mean is 27.225\n"
     ]
    }
   ],
   "source": [
    "mean = df['Weight gain'].mean()\n",
    "print(f'The sample mean is {mean}')"
   ],
   "metadata": {
    "collapsed": false,
    "pycharm": {
     "name": "#%%\n"
    }
   }
  },
  {
   "cell_type": "markdown",
   "source": [
    "To compute the 95% confidence interval we first compute the correction factor t"
   ],
   "metadata": {
    "collapsed": false,
    "pycharm": {
     "name": "#%% md\n"
    }
   }
  },
  {
   "cell_type": "code",
   "execution_count": 60,
   "outputs": [
    {
     "name": "stdout",
     "output_type": "stream",
     "text": [
      "t_0.975 = 3.182446305284263\n"
     ]
    }
   ],
   "source": [
    "from scipy import stats\n",
    "confidence_interval = 0.95 # Confidence interval (95%)\n",
    "P = 1 - confidence_interval # Remaining probability (5%)\n",
    "n = len(df)                 # Number of samples\n",
    "f = n -1                    # Degrees of freedom\n",
    "t = stats.t.ppf(1-P/2, f)   # Correction factor\n",
    "print(f't_{1-P/2} = {t}')"
   ],
   "metadata": {
    "collapsed": false,
    "pycharm": {
     "name": "#%%\n"
    }
   }
  },
  {
   "cell_type": "markdown",
   "source": [
    "The standard deviation of the sample is"
   ],
   "metadata": {
    "collapsed": false,
    "pycharm": {
     "name": "#%% md\n"
    }
   }
  },
  {
   "cell_type": "code",
   "execution_count": 61,
   "outputs": [
    {
     "data": {
      "text/plain": "2.348581131946123"
     },
     "execution_count": 61,
     "metadata": {},
     "output_type": "execute_result"
    }
   ],
   "source": [
    "df['Weight gain'].std()"
   ],
   "metadata": {
    "collapsed": false,
    "pycharm": {
     "name": "#%%\n"
    }
   }
  },
  {
   "cell_type": "markdown",
   "source": [
    "while the estimate of the standard deviation of the sample mean is $(SE_y = \\frac{s}{\\sqrt{n}})$"
   ],
   "metadata": {
    "collapsed": false,
    "pycharm": {
     "name": "#%% md\n"
    }
   }
  },
  {
   "cell_type": "code",
   "execution_count": 62,
   "outputs": [
    {
     "data": {
      "text/plain": "1.1742905659730616"
     },
     "execution_count": 62,
     "metadata": {},
     "output_type": "execute_result"
    }
   ],
   "source": [
    "SEy = df['Weight gain'].std()/len(df)**0.5\n",
    "SEy"
   ],
   "metadata": {
    "collapsed": false,
    "pycharm": {
     "name": "#%%\n"
    }
   }
  },
  {
   "cell_type": "markdown",
   "source": [
    "From the above we can now compute the limits of the 95% confidence interval."
   ],
   "metadata": {
    "collapsed": false,
    "pycharm": {
     "name": "#%% md\n"
    }
   }
  },
  {
   "cell_type": "code",
   "execution_count": 63,
   "outputs": [
    {
     "name": "stdout",
     "output_type": "stream",
     "text": [
      "The lower limit of the 95% confidence interval is 23.487883326988864\n",
      "The upper limit of the 95% confidence interval is 30.96211667301114\n"
     ]
    }
   ],
   "source": [
    "delta_mean = t*SEy\n",
    "print(f'The lower limit of the 95% confidence interval is {mean-delta_mean}')\n",
    "print(f'The upper limit of the 95% confidence interval is {mean+delta_mean}')"
   ],
   "metadata": {
    "collapsed": false,
    "pycharm": {
     "name": "#%%\n"
    }
   }
  },
  {
   "cell_type": "markdown",
   "source": [
    "The 66% confidence interval is."
   ],
   "metadata": {
    "collapsed": false,
    "pycharm": {
     "name": "#%% md\n"
    }
   }
  },
  {
   "cell_type": "code",
   "execution_count": 64,
   "outputs": [
    {
     "name": "stdout",
     "output_type": "stream",
     "text": [
      "t_0.835 = 1.1599415468283476\n"
     ]
    }
   ],
   "source": [
    "confidence_interval = 0.67 # Confidence interval 67%\n",
    "P = 1-confidence_interval # Remaining probability (33%)\n",
    "n = len(df)               # Number of samples\n",
    "f = n - 1                 # Degree of freedom\n",
    "t = stats.t.ppf(1-P/2, f) # Correction factor\n",
    "print(f't_{1-P/2} = {t}')"
   ],
   "metadata": {
    "collapsed": false,
    "pycharm": {
     "name": "#%%\n"
    }
   }
  },
  {
   "cell_type": "code",
   "execution_count": 65,
   "outputs": [
    {
     "name": "stdout",
     "output_type": "stream",
     "text": [
      "The lower limit of the 66% confidence interval is 25.86289158447927\n",
      "The upper limit of the 66% confidence interval is 28.58710841552073\n"
     ]
    }
   ],
   "source": [
    "delta_mean = t*SEy\n",
    "print(f'The lower limit of the 66% confidence interval is {mean-delta_mean}')\n",
    "print(f'The upper limit of the 66% confidence interval is {mean+delta_mean}')"
   ],
   "metadata": {
    "collapsed": false,
    "pycharm": {
     "name": "#%%\n"
    }
   }
  },
  {
   "cell_type": "markdown",
   "source": [
    "We now wish to estimate the confidence intervals if the students performed 64 meassuments\n",
    "(using the standard deviation given above). Then standard deviation of the sample mean will\n",
    "be a bit smaller"
   ],
   "metadata": {
    "collapsed": false,
    "pycharm": {
     "name": "#%% md\n"
    }
   }
  },
  {
   "cell_type": "code",
   "execution_count": 66,
   "outputs": [
    {
     "data": {
      "text/plain": "0.2935726414932654"
     },
     "execution_count": 66,
     "metadata": {},
     "output_type": "execute_result"
    }
   ],
   "source": [
    "n = 64\n",
    "SEy = df['Weight gain'].std()/n**0.5\n",
    "SEy"
   ],
   "metadata": {
    "collapsed": false,
    "pycharm": {
     "name": "#%%\n"
    }
   }
  },
  {
   "cell_type": "markdown",
   "source": [
    "For the 95% confidence interval the correction factor is"
   ],
   "metadata": {
    "collapsed": false,
    "pycharm": {
     "name": "#%% md\n"
    }
   }
  },
  {
   "cell_type": "code",
   "execution_count": 67,
   "outputs": [
    {
     "name": "stdout",
     "output_type": "stream",
     "text": [
      "t_0.975=1.9983405417721956\n"
     ]
    }
   ],
   "source": [
    "confidence_interval = 0.95 # Confidence interval (95%)\n",
    "P = 1-confidence_interval # Remaining probability ( 5%)\n",
    "f = n - 1 # Degrees of fredom\n",
    "t = stats.t.ppf(1-P/2, f) # Correction factor\n",
    "print(f't_{1-P/2}={t}')"
   ],
   "metadata": {
    "collapsed": false,
    "pycharm": {
     "name": "#%%\n"
    }
   }
  },
  {
   "cell_type": "markdown",
   "source": [
    "We note that is close to two. For a moderate amount of meassument it is often fair to assume\n",
    "that t ' 2 for the 95% confidence interval. The predicted range of the confidence interval is for\n",
    "64 meassuments is (in grams)"
   ],
   "metadata": {
    "collapsed": false,
    "pycharm": {
     "name": "#%% md\n"
    }
   }
  },
  {
   "cell_type": "code",
   "execution_count": 68,
   "outputs": [
    {
     "data": {
      "text/plain": "1.173316222902293"
     },
     "execution_count": 68,
     "metadata": {},
     "output_type": "execute_result"
    }
   ],
   "source": [
    "2*t*SEy"
   ],
   "metadata": {
    "collapsed": false,
    "pycharm": {
     "name": "#%%\n"
    }
   }
  },
  {
   "cell_type": "code",
   "execution_count": null,
   "outputs": [],
   "source": [],
   "metadata": {
    "collapsed": false,
    "pycharm": {
     "name": "#%%\n"
    }
   }
  }
 ],
 "metadata": {
  "kernelspec": {
   "display_name": "Python 3",
   "language": "python",
   "name": "python3"
  },
  "language_info": {
   "codemirror_mode": {
    "name": "ipython",
    "version": 2
   },
   "file_extension": ".py",
   "mimetype": "text/x-python",
   "name": "python",
   "nbconvert_exporter": "python",
   "pygments_lexer": "ipython2",
   "version": "2.7.6"
  }
 },
 "nbformat": 4,
 "nbformat_minor": 0
}