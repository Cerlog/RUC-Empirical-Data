{
 "cells": [
  {
   "cell_type": "code",
   "execution_count": 6,
   "outputs": [],
   "source": [
    "import pandas as pd\n",
    "import matplotlib.pyplot as plt"
   ],
   "metadata": {
    "collapsed": false,
    "pycharm": {
     "name": "#%%\n"
    }
   }
  },
  {
   "cell_type": "markdown",
   "source": [
    "## Exercise 3.1: Data in Pandas\n",
    "For this exercise we will use Jupyter/Python and the Pandas module. Hint: Table 3.1\n",
    "(page 43) can be used as a cheat sheet for code snips.\n",
    "1. Make a Series storing the second column in Table 1.2 on page 12 (ATP concentra-\n",
    "tions in birch tree roots)."
   ],
   "metadata": {
    "collapsed": false,
    "pycharm": {
     "name": "#%% md\n"
    }
   }
  },
  {
   "cell_type": "code",
   "execution_count": 2,
   "outputs": [
    {
     "data": {
      "text/plain": "0    1.70\n1    2.04\n2    1.49\n3    1.91\ndtype: float64"
     },
     "execution_count": 2,
     "metadata": {},
     "output_type": "execute_result"
    }
   ],
   "source": [
    "# creating pandas series\n",
    "control = pd.Series([1.70, 2.04, 1.49, 1.91])\n",
    "control"
   ],
   "metadata": {
    "collapsed": false,
    "pycharm": {
     "name": "#%%\n"
    }
   }
  },
  {
   "cell_type": "markdown",
   "source": [
    "2. Make a DataFrame with all the data in Table 1.2."
   ],
   "metadata": {
    "collapsed": false,
    "pycharm": {
     "name": "#%% md\n"
    }
   }
  },
  {
   "cell_type": "code",
   "execution_count": 3,
   "outputs": [
    {
     "data": {
      "text/plain": "   Flooded  Control\n0     1.45     1.70\n1     1.19     2.04\n2     1.05     1.49\n3     1.07     1.91",
      "text/html": "<div>\n<style scoped>\n    .dataframe tbody tr th:only-of-type {\n        vertical-align: middle;\n    }\n\n    .dataframe tbody tr th {\n        vertical-align: top;\n    }\n\n    .dataframe thead th {\n        text-align: right;\n    }\n</style>\n<table border=\"1\" class=\"dataframe\">\n  <thead>\n    <tr style=\"text-align: right;\">\n      <th></th>\n      <th>Flooded</th>\n      <th>Control</th>\n    </tr>\n  </thead>\n  <tbody>\n    <tr>\n      <th>0</th>\n      <td>1.45</td>\n      <td>1.70</td>\n    </tr>\n    <tr>\n      <th>1</th>\n      <td>1.19</td>\n      <td>2.04</td>\n    </tr>\n    <tr>\n      <th>2</th>\n      <td>1.05</td>\n      <td>1.49</td>\n    </tr>\n    <tr>\n      <th>3</th>\n      <td>1.07</td>\n      <td>1.91</td>\n    </tr>\n  </tbody>\n</table>\n</div>"
     },
     "execution_count": 3,
     "metadata": {},
     "output_type": "execute_result"
    }
   ],
   "source": [
    "# adding the flooded data to the list\n",
    "flooded = [1.45, 1.19, 1.05, 1.07]\n",
    "\n",
    "# adding both control and flooded to the dictionary\n",
    "dictionary = {'Flooded': flooded, 'Control': control}\n",
    "\n",
    "# converting the dictionary into the data frame\n",
    "df = pd.DataFrame(dictionary)\n",
    "df"
   ],
   "metadata": {
    "collapsed": false,
    "pycharm": {
     "name": "#%%\n"
    }
   }
  },
  {
   "cell_type": "markdown",
   "source": [
    "## Exercise 3.2: Common code error\n",
    "Computers are very particular in how they want their information.\n",
    "Humans are, in\n",
    "general, more forgiving. As an aspiring scientist, you should welcome the thinking of a\n",
    "computer. We, as scientists, also want to be precise, but coding mistakes are inevitable.\n",
    "Below is code with errors. First, execute the code, inspect the error message, correct the\n",
    "code, and explain what went wrong (it is assumed that Pandas has been imported with\n",
    "import pandas as pd).\n",
    "\n",
    "\n",
    "s = pd.Series ([1 ,45 1,19 1,05 1 ,07])\n",
    "s = Series ([1.45 , 1.19, 1.05, 1.07])\n",
    "flooded data = pd.Series ([1.45 , 1.19, 1.05, 1.07])"
   ],
   "metadata": {
    "collapsed": false,
    "pycharm": {
     "name": "#%% md\n"
    }
   }
  },
  {
   "cell_type": "code",
   "execution_count": null,
   "outputs": [],
   "source": [
    "s = pd.Series([1.45, 1.19, 1.05, 1.07]) # missing commas between and dots for decimals\n",
    "s1 = pd.Series([1.45, 1.19, 1.05, 1.07])#  missing pd.Series\n",
    "flooded_data = pd.Series([1.45, 1.19, 1.05, 1.07]) # missing camel case underscore"
   ],
   "metadata": {
    "collapsed": false,
    "pycharm": {
     "name": "#%%\n"
    }
   }
  },
  {
   "cell_type": "markdown",
   "source": [
    "## Exercise 3.3: Eggs in baskets\n",
    "Never put all one’s eggs in one basket. Thus, consider eggs in a red, a green and a blue\n",
    "basket. The red one holds two eggs, the green contains four eggs, and the blue holds six\n",
    "eggs.\n",
    "1. Store the data about the eggs in baskets using a DataFrame."
   ],
   "metadata": {
    "collapsed": false,
    "pycharm": {
     "name": "#%% md\n"
    }
   }
  },
  {
   "cell_type": "code",
   "execution_count": 13,
   "outputs": [
    {
     "data": {
      "text/plain": "       Number of Eggs\nRed                 2\nGreen               4\nBlue                6",
      "text/html": "<div>\n<style scoped>\n    .dataframe tbody tr th:only-of-type {\n        vertical-align: middle;\n    }\n\n    .dataframe tbody tr th {\n        vertical-align: top;\n    }\n\n    .dataframe thead th {\n        text-align: right;\n    }\n</style>\n<table border=\"1\" class=\"dataframe\">\n  <thead>\n    <tr style=\"text-align: right;\">\n      <th></th>\n      <th>Number of Eggs</th>\n    </tr>\n  </thead>\n  <tbody>\n    <tr>\n      <th>Red</th>\n      <td>2</td>\n    </tr>\n    <tr>\n      <th>Green</th>\n      <td>4</td>\n    </tr>\n    <tr>\n      <th>Blue</th>\n      <td>6</td>\n    </tr>\n  </tbody>\n</table>\n</div>"
     },
     "execution_count": 13,
     "metadata": {},
     "output_type": "execute_result"
    }
   ],
   "source": [
    "eggs_df = pd.DataFrame(\n",
    "    index=['Red','Green','Blue'],\n",
    "    data={'Number of Eggs': [2, 4, 6]}\n",
    ")\n",
    "eggs_df"
   ],
   "metadata": {
    "collapsed": false,
    "pycharm": {
     "name": "#%%\n"
    }
   }
  },
  {
   "cell_type": "markdown",
   "source": [
    "2. Make a bar chart of the eggs in the three baskets. (Similar to what was done for\n",
    "the data of poinsettias in the main text)."
   ],
   "metadata": {
    "collapsed": false,
    "pycharm": {
     "name": "#%% md\n"
    }
   }
  },
  {
   "cell_type": "code",
   "execution_count": 17,
   "outputs": [
    {
     "data": {
      "text/plain": "Text(0.5, 0, 'Basket')"
     },
     "execution_count": 17,
     "metadata": {},
     "output_type": "execute_result"
    },
    {
     "data": {
      "text/plain": "<Figure size 400x300 with 1 Axes>",
      "image/png": "[encoded data removed]"
     },
     "metadata": {},
     "output_type": "display_data"
    }
   ],
   "source": [
    "eggs_df.plot.bar(\n",
    "    y='Number of Eggs',  # define the data that I want to plot, this name must be the same as what is in your data frame\n",
    "    figsize=(4, 3),      # define the size of the figure\n",
    "    color=['red','green','blue'],  # define the colors I want for my bars in the chart\n",
    "    legend=False         # make sure there is no legend in my plot\n",
    ")\n",
    "plt.title(\"Bar chart of the number of eggs in each basket\")\n",
    "plt.ylabel('Number of Eggs')  # define the y-axis label for my plot\n",
    "plt.xlabel('Basket')          # define the x-axis label"
   ],
   "metadata": {
    "collapsed": false,
    "pycharm": {
     "name": "#%%\n"
    }
   }
  },
  {
   "cell_type": "markdown",
   "source": [
    "## Exercise 3.4: Creating a CSV file\n",
    "1. Make a file name atp.csv with the data of Table 1.2. Use the magic command\n",
    "%%writefile, the Jupyter text editor, or another raw-text editor like notepad (not\n",
    "Word)."
   ],
   "metadata": {
    "collapsed": false,
    "pycharm": {
     "name": "#%% md\n"
    }
   }
  },
  {
   "cell_type": "code",
   "execution_count": 18,
   "outputs": [
    {
     "name": "stdout",
     "output_type": "stream",
     "text": [
      "Overwriting atp.csv\n"
     ]
    }
   ],
   "source": [
    "%%writefile atp.csv\n",
    "Flooded, Control\n",
    "1.45, 1.70\n",
    "1.19, 2.04\n",
    "1.05, 1.49\n",
    "1.07, 1.91\n",
    "\n"
   ],
   "metadata": {
    "collapsed": false,
    "pycharm": {
     "name": "#%%\n"
    }
   }
  },
  {
   "cell_type": "markdown",
   "source": [
    "2. Show that you can load the file as a DataFrame using pd.read_csv('atp.csv')."
   ],
   "metadata": {
    "collapsed": false,
    "pycharm": {
     "name": "#%% md\n"
    }
   }
  },
  {
   "cell_type": "code",
   "execution_count": 19,
   "outputs": [
    {
     "data": {
      "text/plain": "   Flooded   Control\n0     1.45      1.70\n1     1.19      2.04\n2     1.05      1.49\n3     1.07      1.91",
      "text/html": "<div>\n<style scoped>\n    .dataframe tbody tr th:only-of-type {\n        vertical-align: middle;\n    }\n\n    .dataframe tbody tr th {\n        vertical-align: top;\n    }\n\n    .dataframe thead th {\n        text-align: right;\n    }\n</style>\n<table border=\"1\" class=\"dataframe\">\n  <thead>\n    <tr style=\"text-align: right;\">\n      <th></th>\n      <th>Flooded</th>\n      <th>Control</th>\n    </tr>\n  </thead>\n  <tbody>\n    <tr>\n      <th>0</th>\n      <td>1.45</td>\n      <td>1.70</td>\n    </tr>\n    <tr>\n      <th>1</th>\n      <td>1.19</td>\n      <td>2.04</td>\n    </tr>\n    <tr>\n      <th>2</th>\n      <td>1.05</td>\n      <td>1.49</td>\n    </tr>\n    <tr>\n      <th>3</th>\n      <td>1.07</td>\n      <td>1.91</td>\n    </tr>\n  </tbody>\n</table>\n</div>"
     },
     "execution_count": 19,
     "metadata": {},
     "output_type": "execute_result"
    }
   ],
   "source": [
    "df_atp = pd.read_csv('atp.csv')\n",
    "df_atp"
   ],
   "metadata": {
    "collapsed": false,
    "pycharm": {
     "name": "#%%\n"
    }
   }
  },
  {
   "cell_type": "markdown",
   "source": [
    "3. Load a CSV file from the cloud. For this we will fetch data from a database with Earthquakes earthquake.usgs.gov/earthquakes/feed/v1.0/csv.php. Data for large earthquakes (M4.5+) within the last day is in the CSV file are in a file named 4.5_day.csv. We can load it by using in the https://earthquake.usgs.gov/earthquakes/feed/v1.0/summary/4.5_day.csv\n",
    "(including the web-address) Here the link is in a variable named f (in quotation\n",
    "marks, ''):"
   ],
   "metadata": {
    "collapsed": false,
    "pycharm": {
     "name": "#%% md\n"
    }
   }
  },
  {
   "cell_type": "code",
   "execution_count": 21,
   "outputs": [
    {
     "data": {
      "text/plain": "                        time   latitude  longitude       depth  mag magType  \\\n0   2022-09-02T07:13:04.803Z  13.937700   93.62620   49.421000  5.1     mww   \n1   2022-09-02T04:32:30.152Z -17.674300 -176.44470   10.000000  5.0      mb   \n2   2022-09-02T04:23:46.241Z -23.683400 -179.58420  558.152000  4.5      mb   \n3   2022-09-02T03:59:55.334Z  -7.539800  127.67930  163.876000  4.6      mb   \n4   2022-09-02T03:34:23.613Z   2.050800   97.85900   62.688000  4.7      mb   \n5   2022-09-02T02:45:31.783Z  51.607800 -176.79860   54.521000  4.7      mb   \n6   2022-09-02T00:12:41.533Z -57.861900  -25.09930   27.181000  4.7      mb   \n7   2022-09-02T00:05:58.778Z  42.886700  146.01450   41.792000  4.5      mb   \n8   2022-09-01T23:08:46.428Z -17.384200 -174.99200  269.033000  4.5      mb   \n9   2022-09-01T16:23:44.038Z  -7.264700  128.93840  157.526000  5.2      mb   \n10  2022-09-01T16:23:29.293Z  31.614251 -103.99115    9.833521  4.6      ml   \n11  2022-09-01T15:33:20.156Z  10.941000  126.14090   46.360000  4.7      mb   \n12  2022-09-01T14:24:42.181Z -17.866700 -176.65120   10.000000  4.7      mb   \n13  2022-09-01T11:21:09.432Z  31.356800  131.77620   23.601000  4.9      mb   \n\n    nst  gap      dmin   rms  ...                   updated  \\\n0   126   45  5.349000  0.85  ...  2022-09-02T07:32:30.040Z   \n1    34   79  2.518000  1.24  ...  2022-09-02T04:50:42.040Z   \n2    25  106  4.762000  0.89  ...  2022-09-02T04:37:51.040Z   \n3    24  109  3.614000  0.41  ...  2022-09-02T04:15:45.040Z   \n4    38  111  0.794000  0.50  ...  2022-09-02T03:51:56.040Z   \n5    56  137  0.284000  1.05  ...  2022-09-02T05:16:21.519Z   \n6    36  175  7.311000  0.48  ...  2022-09-02T00:46:58.040Z   \n7    39  168  2.287000  0.54  ...  2022-09-02T00:36:19.040Z   \n8    88   41  1.572000  0.46  ...  2022-09-01T23:33:29.040Z   \n9    39   72  2.446000  0.57  ...  2022-09-01T19:29:43.509Z   \n10   10   98  0.074122  0.10  ...  2022-09-02T07:49:25.128Z   \n11  113  105  3.886000  0.66  ...  2022-09-01T17:04:10.040Z   \n12   27   83  2.636000  0.47  ...  2022-09-01T15:00:17.040Z   \n13   58   97  1.142000  1.11  ...  2022-09-01T11:54:29.410Z   \n\n                                 place        type horizontalError depthError  \\\n0     266 km NNE of Bamboo Flat, India  earthquake        8.540000   6.491000   \n1          281 km WNW of Neiafu, Tonga  earthquake        5.590000   1.879000   \n2            south of the Fiji Islands  earthquake       13.720000  11.418000   \n3   132 km NE of Lospalos, Timor Leste  earthquake        8.750000   8.312000   \n4      27 km SSE of Singkil, Indonesia  earthquake        6.910000   7.102000   \n5            31 km SSW of Adak, Alaska  earthquake        7.390000   6.217000   \n6        South Sandwich Islands region  earthquake       11.510000   4.830000   \n7            60 km SE of Nemuro, Japan  earthquake       11.480000   9.255000   \n8           176 km NW of Neiafu, Tonga  earthquake        8.500000   7.498000   \n9      Kepulauan Barat Daya, Indonesia  earthquake        8.020000   9.499000   \n10                       western Texas  earthquake        1.077825   1.357828   \n11    34 km E of Sulangan, Philippines  earthquake        9.750000   6.323000   \n12         295 km WNW of Neiafu, Tonga  earthquake       11.910000   1.890000   \n13         47 km SE of Nichinan, Japan  earthquake        6.530000   3.495000   \n\n    magError  magNst    status  locationSource magSource  \n0      0.086      13  reviewed              us        us  \n1      0.048     136  reviewed              us        us  \n2      0.136      16  reviewed              us        us  \n3      0.140      17  reviewed              us        us  \n4      0.099      31  reviewed              us        us  \n5      0.034     261  reviewed              us        us  \n6      0.096      33  reviewed              us        us  \n7      0.110      24  reviewed              us        us  \n8      0.048     128  reviewed              us        us  \n9      0.095      37  reviewed              us        us  \n10     0.200       7  reviewed              tx        tx  \n11     0.056     105  reviewed              us        us  \n12     0.106      27  reviewed              us        us  \n13     0.043     166  reviewed              us        us  \n\n[14 rows x 22 columns]",
      "text/html": "<div>\n<style scoped>\n    .dataframe tbody tr th:only-of-type {\n        vertical-align: middle;\n    }\n\n    .dataframe tbody tr th {\n        vertical-align: top;\n    }\n\n    .dataframe thead th {\n        text-align: right;\n    }\n</style>\n<table border=\"1\" class=\"dataframe\">\n  <thead>\n    <tr style=\"text-align: right;\">\n      <th></th>\n      <th>time</th>\n      <th>latitude</th>\n      <th>longitude</th>\n      <th>depth</th>\n      <th>mag</th>\n      <th>magType</th>\n      <th>nst</th>\n      <th>gap</th>\n      <th>dmin</th>\n      <th>rms</th>\n      <th>...</th>\n      <th>updated</th>\n      <th>place</th>\n      <th>type</th>\n      <th>horizontalError</th>\n      <th>depthError</th>\n      <th>magError</th>\n      <th>magNst</th>\n      <th>status</th>\n      <th>locationSource</th>\n      <th>magSource</th>\n    </tr>\n  </thead>\n  <tbody>\n    <tr>\n      <th>0</th>\n      <td>2022-09-02T07:13:04.803Z</td>\n      <td>13.937700</td>\n      <td>93.62620</td>\n      <td>49.421000</td>\n      <td>5.1</td>\n      <td>mww</td>\n      <td>126</td>\n      <td>45</td>\n      <td>5.349000</td>\n      <td>0.85</td>\n      <td>...</td>\n      <td>2022-09-02T07:32:30.040Z</td>\n      <td>266 km NNE of Bamboo Flat, India</td>\n      <td>earthquake</td>\n      <td>8.540000</td>\n      <td>6.491000</td>\n      <td>0.086</td>\n      <td>13</td>\n      <td>reviewed</td>\n      <td>us</td>\n      <td>us</td>\n    </tr>\n    <tr>\n      <th>1</th>\n      <td>2022-09-02T04:32:30.152Z</td>\n      <td>-17.674300</td>\n      <td>-176.44470</td>\n      <td>10.000000</td>\n      <td>5.0</td>\n      <td>mb</td>\n      <td>34</td>\n      <td>79</td>\n      <td>2.518000</td>\n      <td>1.24</td>\n      <td>...</td>\n      <td>2022-09-02T04:50:42.040Z</td>\n      <td>281 km WNW of Neiafu, Tonga</td>\n      <td>earthquake</td>\n      <td>5.590000</td>\n      <td>1.879000</td>\n      <td>0.048</td>\n      <td>136</td>\n      <td>reviewed</td>\n      <td>us</td>\n      <td>us</td>\n    </tr>\n    <tr>\n      <th>2</th>\n      <td>2022-09-02T04:23:46.241Z</td>\n      <td>-23.683400</td>\n      <td>-179.58420</td>\n      <td>558.152000</td>\n      <td>4.5</td>\n      <td>mb</td>\n      <td>25</td>\n      <td>106</td>\n      <td>4.762000</td>\n      <td>0.89</td>\n      <td>...</td>\n      <td>2022-09-02T04:37:51.040Z</td>\n      <td>south of the Fiji Islands</td>\n      <td>earthquake</td>\n      <td>13.720000</td>\n      <td>11.418000</td>\n      <td>0.136</td>\n      <td>16</td>\n      <td>reviewed</td>\n      <td>us</td>\n      <td>us</td>\n    </tr>\n    <tr>\n      <th>3</th>\n      <td>2022-09-02T03:59:55.334Z</td>\n      <td>-7.539800</td>\n      <td>127.67930</td>\n      <td>163.876000</td>\n      <td>4.6</td>\n      <td>mb</td>\n      <td>24</td>\n      <td>109</td>\n      <td>3.614000</td>\n      <td>0.41</td>\n      <td>...</td>\n      <td>2022-09-02T04:15:45.040Z</td>\n      <td>132 km NE of Lospalos, Timor Leste</td>\n      <td>earthquake</td>\n      <td>8.750000</td>\n      <td>8.312000</td>\n      <td>0.140</td>\n      <td>17</td>\n      <td>reviewed</td>\n      <td>us</td>\n      <td>us</td>\n    </tr>\n    <tr>\n      <th>4</th>\n      <td>2022-09-02T03:34:23.613Z</td>\n      <td>2.050800</td>\n      <td>97.85900</td>\n      <td>62.688000</td>\n      <td>4.7</td>\n      <td>mb</td>\n      <td>38</td>\n      <td>111</td>\n      <td>0.794000</td>\n      <td>0.50</td>\n      <td>...</td>\n      <td>2022-09-02T03:51:56.040Z</td>\n      <td>27 km SSE of Singkil, Indonesia</td>\n      <td>earthquake</td>\n      <td>6.910000</td>\n      <td>7.102000</td>\n      <td>0.099</td>\n      <td>31</td>\n      <td>reviewed</td>\n      <td>us</td>\n      <td>us</td>\n    </tr>\n    <tr>\n      <th>5</th>\n      <td>2022-09-02T02:45:31.783Z</td>\n      <td>51.607800</td>\n      <td>-176.79860</td>\n      <td>54.521000</td>\n      <td>4.7</td>\n      <td>mb</td>\n      <td>56</td>\n      <td>137</td>\n      <td>0.284000</td>\n      <td>1.05</td>\n      <td>...</td>\n      <td>2022-09-02T05:16:21.519Z</td>\n      <td>31 km SSW of Adak, Alaska</td>\n      <td>earthquake</td>\n      <td>7.390000</td>\n      <td>6.217000</td>\n      <td>0.034</td>\n      <td>261</td>\n      <td>reviewed</td>\n      <td>us</td>\n      <td>us</td>\n    </tr>\n    <tr>\n      <th>6</th>\n      <td>2022-09-02T00:12:41.533Z</td>\n      <td>-57.861900</td>\n      <td>-25.09930</td>\n      <td>27.181000</td>\n      <td>4.7</td>\n      <td>mb</td>\n      <td>36</td>\n      <td>175</td>\n      <td>7.311000</td>\n      <td>0.48</td>\n      <td>...</td>\n      <td>2022-09-02T00:46:58.040Z</td>\n      <td>South Sandwich Islands region</td>\n      <td>earthquake</td>\n      <td>11.510000</td>\n      <td>4.830000</td>\n      <td>0.096</td>\n      <td>33</td>\n      <td>reviewed</td>\n      <td>us</td>\n      <td>us</td>\n    </tr>\n    <tr>\n      <th>7</th>\n      <td>2022-09-02T00:05:58.778Z</td>\n      <td>42.886700</td>\n      <td>146.01450</td>\n      <td>41.792000</td>\n      <td>4.5</td>\n      <td>mb</td>\n      <td>39</td>\n      <td>168</td>\n      <td>2.287000</td>\n      <td>0.54</td>\n      <td>...</td>\n      <td>2022-09-02T00:36:19.040Z</td>\n      <td>60 km SE of Nemuro, Japan</td>\n      <td>earthquake</td>\n      <td>11.480000</td>\n      <td>9.255000</td>\n      <td>0.110</td>\n      <td>24</td>\n      <td>reviewed</td>\n      <td>us</td>\n      <td>us</td>\n    </tr>\n    <tr>\n      <th>8</th>\n      <td>2022-09-01T23:08:46.428Z</td>\n      <td>-17.384200</td>\n      <td>-174.99200</td>\n      <td>269.033000</td>\n      <td>4.5</td>\n      <td>mb</td>\n      <td>88</td>\n      <td>41</td>\n      <td>1.572000</td>\n      <td>0.46</td>\n      <td>...</td>\n      <td>2022-09-01T23:33:29.040Z</td>\n      <td>176 km NW of Neiafu, Tonga</td>\n      <td>earthquake</td>\n      <td>8.500000</td>\n      <td>7.498000</td>\n      <td>0.048</td>\n      <td>128</td>\n      <td>reviewed</td>\n      <td>us</td>\n      <td>us</td>\n    </tr>\n    <tr>\n      <th>9</th>\n      <td>2022-09-01T16:23:44.038Z</td>\n      <td>-7.264700</td>\n      <td>128.93840</td>\n      <td>157.526000</td>\n      <td>5.2</td>\n      <td>mb</td>\n      <td>39</td>\n      <td>72</td>\n      <td>2.446000</td>\n      <td>0.57</td>\n      <td>...</td>\n      <td>2022-09-01T19:29:43.509Z</td>\n      <td>Kepulauan Barat Daya, Indonesia</td>\n      <td>earthquake</td>\n      <td>8.020000</td>\n      <td>9.499000</td>\n      <td>0.095</td>\n      <td>37</td>\n      <td>reviewed</td>\n      <td>us</td>\n      <td>us</td>\n    </tr>\n    <tr>\n      <th>10</th>\n      <td>2022-09-01T16:23:29.293Z</td>\n      <td>31.614251</td>\n      <td>-103.99115</td>\n      <td>9.833521</td>\n      <td>4.6</td>\n      <td>ml</td>\n      <td>10</td>\n      <td>98</td>\n      <td>0.074122</td>\n      <td>0.10</td>\n      <td>...</td>\n      <td>2022-09-02T07:49:25.128Z</td>\n      <td>western Texas</td>\n      <td>earthquake</td>\n      <td>1.077825</td>\n      <td>1.357828</td>\n      <td>0.200</td>\n      <td>7</td>\n      <td>reviewed</td>\n      <td>tx</td>\n      <td>tx</td>\n    </tr>\n    <tr>\n      <th>11</th>\n      <td>2022-09-01T15:33:20.156Z</td>\n      <td>10.941000</td>\n      <td>126.14090</td>\n      <td>46.360000</td>\n      <td>4.7</td>\n      <td>mb</td>\n      <td>113</td>\n      <td>105</td>\n      <td>3.886000</td>\n      <td>0.66</td>\n      <td>...</td>\n      <td>2022-09-01T17:04:10.040Z</td>\n      <td>34 km E of Sulangan, Philippines</td>\n      <td>earthquake</td>\n      <td>9.750000</td>\n      <td>6.323000</td>\n      <td>0.056</td>\n      <td>105</td>\n      <td>reviewed</td>\n      <td>us</td>\n      <td>us</td>\n    </tr>\n    <tr>\n      <th>12</th>\n      <td>2022-09-01T14:24:42.181Z</td>\n      <td>-17.866700</td>\n      <td>-176.65120</td>\n      <td>10.000000</td>\n      <td>4.7</td>\n      <td>mb</td>\n      <td>27</td>\n      <td>83</td>\n      <td>2.636000</td>\n      <td>0.47</td>\n      <td>...</td>\n      <td>2022-09-01T15:00:17.040Z</td>\n      <td>295 km WNW of Neiafu, Tonga</td>\n      <td>earthquake</td>\n      <td>11.910000</td>\n      <td>1.890000</td>\n      <td>0.106</td>\n      <td>27</td>\n      <td>reviewed</td>\n      <td>us</td>\n      <td>us</td>\n    </tr>\n    <tr>\n      <th>13</th>\n      <td>2022-09-01T11:21:09.432Z</td>\n      <td>31.356800</td>\n      <td>131.77620</td>\n      <td>23.601000</td>\n      <td>4.9</td>\n      <td>mb</td>\n      <td>58</td>\n      <td>97</td>\n      <td>1.142000</td>\n      <td>1.11</td>\n      <td>...</td>\n      <td>2022-09-01T11:54:29.410Z</td>\n      <td>47 km SE of Nichinan, Japan</td>\n      <td>earthquake</td>\n      <td>6.530000</td>\n      <td>3.495000</td>\n      <td>0.043</td>\n      <td>166</td>\n      <td>reviewed</td>\n      <td>us</td>\n      <td>us</td>\n    </tr>\n  </tbody>\n</table>\n<p>14 rows × 22 columns</p>\n</div>"
     },
     "execution_count": 21,
     "metadata": {},
     "output_type": "execute_result"
    }
   ],
   "source": [
    "f = 'https://earthquake.usgs.gov/earthquakes/feed/v1.0/summary/4.5_day.csv'\n",
    "df = pd.read_csv(f)\n",
    "df"
   ],
   "metadata": {
    "collapsed": false,
    "pycharm": {
     "name": "#%%\n"
    }
   }
  },
  {
   "cell_type": "markdown",
   "source": [
    "## Exercise 3.6: Sneak peak of pop-corn data*\n",
    "*(Optional)* In the following chapters, we will investigate the popcorn data in more\n",
    "detail. However, if you cannot wait, below is some code that you can try. I will assume\n",
    "that you have saved popcorn data in a CSV file with the name popcorn.csv. For now,\n",
    "you will have to type some code without fully understanding it. The code is somewhat\n",
    "self-explanatory. First, we will load the popcorn data into a DataFrame."
   ],
   "metadata": {
    "collapsed": false,
    "pycharm": {
     "name": "#%% md\n"
    }
   }
  },
  {
   "cell_type": "code",
   "execution_count": 25,
   "outputs": [],
   "source": [
    "df = pd.read_csv('Popcorn_in_csv.csv')"
   ],
   "metadata": {
    "collapsed": false,
    "pycharm": {
     "name": "#%%\n"
    }
   }
  },
  {
   "cell_type": "code",
   "execution_count": 26,
   "outputs": [
    {
     "data": {
      "text/plain": "    Kernel ID Poped  Length  Width   Color\n0           0   Yes      11      9   White\n1           1    No       6      5   Brown\n2           2   Yes      36     24   White\n3           3   Yes      18     17   White\n4           4   Yes      28     15   White\n5           5    No       8      3   Brown\n6           6   Yes      15      2   White\n7           7   Yes      34      7   White\n8           8   Yes      23     18   White\n9           9    No       6      4  Yellow\n10         10   Yes      13      7   White\n11         11    No       8      4   Brown\n12         12   Yes      20      6   White\n13         13   Yes      28      9   White\n14         14   Yes      30      2   White\n15         15   Yes      25     10   White\n16         16   Yes       8      2   Brown\n17         17   Yes      29      3   White\n18         18   Yes       8      2   White\n19         19   Yes      19     15   White\n20         20   Yes      11      6   White\n21         21   Yes      32      7   White\n22         22   Yes      30      7   White\n23         23    No       8      4   Brown\n24         24   Yes      20      6   White\n25         25   Yes      22     21   White\n26         26   Yes      21      8   White\n27         27   Yes      20     17   White\n28         28   Yes      18     10   White\n29         29   Yes      14     12   White\n30         30   Yes       8      5   White\n31         31   Yes      13     12   White\n32         32   Yes      23     12   White\n33         33    No       6      6   Brown\n34         34    No       7      5   Brown\n35         35   Yes      23     19   White\n36         36   Yes      15     10   White\n37         37    No       7      5   Brown\n38         38   Yes      16     10   White\n39         39   Yes      21     14   White",
      "text/html": "<div>\n<style scoped>\n    .dataframe tbody tr th:only-of-type {\n        vertical-align: middle;\n    }\n\n    .dataframe tbody tr th {\n        vertical-align: top;\n    }\n\n    .dataframe thead th {\n        text-align: right;\n    }\n</style>\n<table border=\"1\" class=\"dataframe\">\n  <thead>\n    <tr style=\"text-align: right;\">\n      <th></th>\n      <th>Kernel ID</th>\n      <th>Poped</th>\n      <th>Length</th>\n      <th>Width</th>\n      <th>Color</th>\n    </tr>\n  </thead>\n  <tbody>\n    <tr>\n      <th>0</th>\n      <td>0</td>\n      <td>Yes</td>\n      <td>11</td>\n      <td>9</td>\n      <td>White</td>\n    </tr>\n    <tr>\n      <th>1</th>\n      <td>1</td>\n      <td>No</td>\n      <td>6</td>\n      <td>5</td>\n      <td>Brown</td>\n    </tr>\n    <tr>\n      <th>2</th>\n      <td>2</td>\n      <td>Yes</td>\n      <td>36</td>\n      <td>24</td>\n      <td>White</td>\n    </tr>\n    <tr>\n      <th>3</th>\n      <td>3</td>\n      <td>Yes</td>\n      <td>18</td>\n      <td>17</td>\n      <td>White</td>\n    </tr>\n    <tr>\n      <th>4</th>\n      <td>4</td>\n      <td>Yes</td>\n      <td>28</td>\n      <td>15</td>\n      <td>White</td>\n    </tr>\n    <tr>\n      <th>5</th>\n      <td>5</td>\n      <td>No</td>\n      <td>8</td>\n      <td>3</td>\n      <td>Brown</td>\n    </tr>\n    <tr>\n      <th>6</th>\n      <td>6</td>\n      <td>Yes</td>\n      <td>15</td>\n      <td>2</td>\n      <td>White</td>\n    </tr>\n    <tr>\n      <th>7</th>\n      <td>7</td>\n      <td>Yes</td>\n      <td>34</td>\n      <td>7</td>\n      <td>White</td>\n    </tr>\n    <tr>\n      <th>8</th>\n      <td>8</td>\n      <td>Yes</td>\n      <td>23</td>\n      <td>18</td>\n      <td>White</td>\n    </tr>\n    <tr>\n      <th>9</th>\n      <td>9</td>\n      <td>No</td>\n      <td>6</td>\n      <td>4</td>\n      <td>Yellow</td>\n    </tr>\n    <tr>\n      <th>10</th>\n      <td>10</td>\n      <td>Yes</td>\n      <td>13</td>\n      <td>7</td>\n      <td>White</td>\n    </tr>\n    <tr>\n      <th>11</th>\n      <td>11</td>\n      <td>No</td>\n      <td>8</td>\n      <td>4</td>\n      <td>Brown</td>\n    </tr>\n    <tr>\n      <th>12</th>\n      <td>12</td>\n      <td>Yes</td>\n      <td>20</td>\n      <td>6</td>\n      <td>White</td>\n    </tr>\n    <tr>\n      <th>13</th>\n      <td>13</td>\n      <td>Yes</td>\n      <td>28</td>\n      <td>9</td>\n      <td>White</td>\n    </tr>\n    <tr>\n      <th>14</th>\n      <td>14</td>\n      <td>Yes</td>\n      <td>30</td>\n      <td>2</td>\n      <td>White</td>\n    </tr>\n    <tr>\n      <th>15</th>\n      <td>15</td>\n      <td>Yes</td>\n      <td>25</td>\n      <td>10</td>\n      <td>White</td>\n    </tr>\n    <tr>\n      <th>16</th>\n      <td>16</td>\n      <td>Yes</td>\n      <td>8</td>\n      <td>2</td>\n      <td>Brown</td>\n    </tr>\n    <tr>\n      <th>17</th>\n      <td>17</td>\n      <td>Yes</td>\n      <td>29</td>\n      <td>3</td>\n      <td>White</td>\n    </tr>\n    <tr>\n      <th>18</th>\n      <td>18</td>\n      <td>Yes</td>\n      <td>8</td>\n      <td>2</td>\n      <td>White</td>\n    </tr>\n    <tr>\n      <th>19</th>\n      <td>19</td>\n      <td>Yes</td>\n      <td>19</td>\n      <td>15</td>\n      <td>White</td>\n    </tr>\n    <tr>\n      <th>20</th>\n      <td>20</td>\n      <td>Yes</td>\n      <td>11</td>\n      <td>6</td>\n      <td>White</td>\n    </tr>\n    <tr>\n      <th>21</th>\n      <td>21</td>\n      <td>Yes</td>\n      <td>32</td>\n      <td>7</td>\n      <td>White</td>\n    </tr>\n    <tr>\n      <th>22</th>\n      <td>22</td>\n      <td>Yes</td>\n      <td>30</td>\n      <td>7</td>\n      <td>White</td>\n    </tr>\n    <tr>\n      <th>23</th>\n      <td>23</td>\n      <td>No</td>\n      <td>8</td>\n      <td>4</td>\n      <td>Brown</td>\n    </tr>\n    <tr>\n      <th>24</th>\n      <td>24</td>\n      <td>Yes</td>\n      <td>20</td>\n      <td>6</td>\n      <td>White</td>\n    </tr>\n    <tr>\n      <th>25</th>\n      <td>25</td>\n      <td>Yes</td>\n      <td>22</td>\n      <td>21</td>\n      <td>White</td>\n    </tr>\n    <tr>\n      <th>26</th>\n      <td>26</td>\n      <td>Yes</td>\n      <td>21</td>\n      <td>8</td>\n      <td>White</td>\n    </tr>\n    <tr>\n      <th>27</th>\n      <td>27</td>\n      <td>Yes</td>\n      <td>20</td>\n      <td>17</td>\n      <td>White</td>\n    </tr>\n    <tr>\n      <th>28</th>\n      <td>28</td>\n      <td>Yes</td>\n      <td>18</td>\n      <td>10</td>\n      <td>White</td>\n    </tr>\n    <tr>\n      <th>29</th>\n      <td>29</td>\n      <td>Yes</td>\n      <td>14</td>\n      <td>12</td>\n      <td>White</td>\n    </tr>\n    <tr>\n      <th>30</th>\n      <td>30</td>\n      <td>Yes</td>\n      <td>8</td>\n      <td>5</td>\n      <td>White</td>\n    </tr>\n    <tr>\n      <th>31</th>\n      <td>31</td>\n      <td>Yes</td>\n      <td>13</td>\n      <td>12</td>\n      <td>White</td>\n    </tr>\n    <tr>\n      <th>32</th>\n      <td>32</td>\n      <td>Yes</td>\n      <td>23</td>\n      <td>12</td>\n      <td>White</td>\n    </tr>\n    <tr>\n      <th>33</th>\n      <td>33</td>\n      <td>No</td>\n      <td>6</td>\n      <td>6</td>\n      <td>Brown</td>\n    </tr>\n    <tr>\n      <th>34</th>\n      <td>34</td>\n      <td>No</td>\n      <td>7</td>\n      <td>5</td>\n      <td>Brown</td>\n    </tr>\n    <tr>\n      <th>35</th>\n      <td>35</td>\n      <td>Yes</td>\n      <td>23</td>\n      <td>19</td>\n      <td>White</td>\n    </tr>\n    <tr>\n      <th>36</th>\n      <td>36</td>\n      <td>Yes</td>\n      <td>15</td>\n      <td>10</td>\n      <td>White</td>\n    </tr>\n    <tr>\n      <th>37</th>\n      <td>37</td>\n      <td>No</td>\n      <td>7</td>\n      <td>5</td>\n      <td>Brown</td>\n    </tr>\n    <tr>\n      <th>38</th>\n      <td>38</td>\n      <td>Yes</td>\n      <td>16</td>\n      <td>10</td>\n      <td>White</td>\n    </tr>\n    <tr>\n      <th>39</th>\n      <td>39</td>\n      <td>Yes</td>\n      <td>21</td>\n      <td>14</td>\n      <td>White</td>\n    </tr>\n  </tbody>\n</table>\n</div>"
     },
     "execution_count": 26,
     "metadata": {},
     "output_type": "execute_result"
    }
   ],
   "source": [
    "df"
   ],
   "metadata": {
    "collapsed": false,
    "pycharm": {
     "name": "#%%\n"
    }
   }
  },
  {
   "cell_type": "code",
   "execution_count": 27,
   "outputs": [
    {
     "data": {
      "text/plain": "Yes    32\nNo      8\nName: Poped, dtype: int64"
     },
     "execution_count": 27,
     "metadata": {},
     "output_type": "execute_result"
    }
   ],
   "source": [
    "df['Poped'].value_counts()"
   ],
   "metadata": {
    "collapsed": false,
    "pycharm": {
     "name": "#%%\n"
    }
   }
  },
  {
   "cell_type": "code",
   "execution_count": 29,
   "outputs": [
    {
     "data": {
      "text/plain": "<Figure size 640x480 with 1 Axes>",
      "image/png": "[encoded data removed]"
     },
     "metadata": {},
     "output_type": "display_data"
    }
   ],
   "source": [
    "poped = df['Poped'].value_counts().plot.bar()"
   ],
   "metadata": {
    "collapsed": false,
    "pycharm": {
     "name": "#%%\n"
    }
   }
  },
  {
   "cell_type": "code",
   "execution_count": 45,
   "outputs": [
    {
     "data": {
      "text/plain": "<AxesSubplot:ylabel='Frequency'>"
     },
     "execution_count": 45,
     "metadata": {},
     "output_type": "execute_result"
    },
    {
     "data": {
      "text/plain": "<Figure size 640x480 with 1 Axes>",
      "image/png": "[encoded data removed]"
     },
     "metadata": {},
     "output_type": "display_data"
    }
   ],
   "source": [
    "df['Length'].plot.hist(bins=9)"
   ],
   "metadata": {
    "collapsed": false,
    "pycharm": {
     "name": "#%%\n"
    }
   }
  },
  {
   "cell_type": "code",
   "execution_count": null,
   "outputs": [],
   "source": [],
   "metadata": {
    "collapsed": false,
    "pycharm": {
     "name": "#%%\n"
    }
   }
  }
 ],
 "metadata": {
  "kernelspec": {
   "display_name": "Python 3",
   "language": "python",
   "name": "python3"
  },
  "language_info": {
   "codemirror_mode": {
    "name": "ipython",
    "version": 2
   },
   "file_extension": ".py",
   "mimetype": "text/x-python",
   "name": "python",
   "nbconvert_exporter": "python",
   "pygments_lexer": "ipython2",
   "version": "2.7.6"
  }
 },
 "nbformat": 4,
 "nbformat_minor": 0
}