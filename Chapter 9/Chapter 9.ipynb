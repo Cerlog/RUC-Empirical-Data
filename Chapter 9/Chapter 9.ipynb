{
 "cells": [
  {
   "cell_type": "code",
   "execution_count": 65,
   "metadata": {
    "collapsed": true,
    "pycharm": {
     "name": "#%%\n"
    }
   },
   "outputs": [],
   "source": [
    "from scipy.special import binom\n",
    "import pandas as pd\n",
    "from numpy.random import binomial\n",
    "import matplotlib.pyplot as plt\n",
    "import numpy as np"
   ]
  },
  {
   "cell_type": "markdown",
   "source": [
    "As an example, for n = 4 and k = 2 the binomial coefficient = 6"
   ],
   "metadata": {
    "collapsed": false,
    "pycharm": {
     "name": "#%% md\n"
    }
   }
  },
  {
   "cell_type": "code",
   "execution_count": 8,
   "outputs": [
    {
     "data": {
      "text/plain": "6.0"
     },
     "execution_count": 8,
     "metadata": {},
     "output_type": "execute_result"
    }
   ],
   "source": [
    "n = 4\n",
    "k = 2\n",
    "binom(n, k)"
   ],
   "metadata": {
    "collapsed": false,
    "pycharm": {
     "name": "#%%\n"
    }
   }
  },
  {
   "cell_type": "markdown",
   "source": [
    "We can get all the coefficient by inserting a list of k’s using n = 4. Below we indert this data\n",
    "into a DataFrame."
   ],
   "metadata": {
    "collapsed": false,
    "pycharm": {
     "name": "#%% md\n"
    }
   }
  },
  {
   "cell_type": "code",
   "execution_count": 9,
   "outputs": [
    {
     "data": {
      "text/plain": "   k  Binomial Coefficient\n0  0                   1.0\n1  1                   4.0\n2  2                   6.0\n3  3                   4.0\n4  4                   1.0",
      "text/html": "<div>\n<style scoped>\n    .dataframe tbody tr th:only-of-type {\n        vertical-align: middle;\n    }\n\n    .dataframe tbody tr th {\n        vertical-align: top;\n    }\n\n    .dataframe thead th {\n        text-align: right;\n    }\n</style>\n<table border=\"1\" class=\"dataframe\">\n  <thead>\n    <tr style=\"text-align: right;\">\n      <th></th>\n      <th>k</th>\n      <th>Binomial Coefficient</th>\n    </tr>\n  </thead>\n  <tbody>\n    <tr>\n      <th>0</th>\n      <td>0</td>\n      <td>1.0</td>\n    </tr>\n    <tr>\n      <th>1</th>\n      <td>1</td>\n      <td>4.0</td>\n    </tr>\n    <tr>\n      <th>2</th>\n      <td>2</td>\n      <td>6.0</td>\n    </tr>\n    <tr>\n      <th>3</th>\n      <td>3</td>\n      <td>4.0</td>\n    </tr>\n    <tr>\n      <th>4</th>\n      <td>4</td>\n      <td>1.0</td>\n    </tr>\n  </tbody>\n</table>\n</div>"
     },
     "execution_count": 9,
     "metadata": {},
     "output_type": "execute_result"
    }
   ],
   "source": [
    "n = 4\n",
    "df_binomial = pd.DataFrame({\n",
    "    'k': [0, 1, 2, 3, 4]\n",
    "})\n",
    "df_binomial['Binomial Coefficient'] = binom(n, df_binomial['k'])\n",
    "df_binomial"
   ],
   "metadata": {
    "collapsed": false,
    "pycharm": {
     "name": "#%%\n"
    }
   }
  },
  {
   "cell_type": "code",
   "execution_count": 12,
   "outputs": [
    {
     "data": {
      "text/plain": "<AxesSubplot:xlabel='k'>"
     },
     "execution_count": 12,
     "metadata": {},
     "output_type": "execute_result"
    },
    {
     "data": {
      "text/plain": "<Figure size 640x480 with 1 Axes>",
      "image/png": "[encoded data removed]"
     },
     "metadata": {},
     "output_type": "display_data"
    }
   ],
   "source": [
    "df_binomial.plot.bar('k', 'Binomial Coefficient')"
   ],
   "metadata": {
    "collapsed": false,
    "pycharm": {
     "name": "#%%\n"
    }
   }
  },
  {
   "cell_type": "markdown",
   "source": [
    "## Flipping a coin for times and counting the heads (p=0.5)"
   ],
   "metadata": {
    "collapsed": false,
    "pycharm": {
     "name": "#%% md\n"
    }
   }
  },
  {
   "cell_type": "code",
   "execution_count": 18,
   "outputs": [
    {
     "name": "stdout",
     "output_type": "stream",
     "text": [
      "3 was head in 4 coin flips (p=0.5)\n"
     ]
    }
   ],
   "source": [
    "n = 4\n",
    "p = 0.5\n",
    "number_of_heads = binomial(4, p)\n",
    "print(f'{number_of_heads} was head in {n} coin flips (p={p})')"
   ],
   "metadata": {
    "collapsed": false,
    "pycharm": {
     "name": "#%%\n"
    }
   }
  },
  {
   "cell_type": "markdown",
   "source": [
    "We can make the trial several times at once by using the size= input. Here we show the results\n",
    "of flipping four coins and counting the number of heads. The simulation is performed one\n",
    "hundered times."
   ],
   "metadata": {
    "collapsed": false,
    "pycharm": {
     "name": "#%% md\n"
    }
   }
  },
  {
   "cell_type": "code",
   "execution_count": 19,
   "outputs": [
    {
     "name": "stdout",
     "output_type": "stream",
     "text": [
      "[2 3 1 2 2 2 2 3 3 2 2 3 3 1 3 1 2 3 3 0 3 1 1 1 2 2 3 1 2 2 3 3 2 2 0 3 2\n",
      " 3 0 3 1 2 3 2 3 3 2 2 3 2 2 2 2 3 3 3 1 1 3 3 2 2 1 1 2 3 4 2 2 2 1 0 3 2\n",
      " 4 2 3 2 1 2 1 2 3 3 3 3 1 1 3 2 2 1 1 3 0 3 2 2 1 3]\n"
     ]
    }
   ],
   "source": [
    "number_of_heads_100 = binomial(n, p, size=100)\n",
    "print(number_of_heads_100)"
   ],
   "metadata": {
    "collapsed": false,
    "pycharm": {
     "name": "#%%\n"
    }
   }
  },
  {
   "cell_type": "markdown",
   "source": [
    "Let us make a DataFrame with this information and make a histogram of the number of heads\n",
    "in the game."
   ],
   "metadata": {
    "collapsed": false,
    "pycharm": {
     "name": "#%% md\n"
    }
   }
  },
  {
   "cell_type": "code",
   "execution_count": 20,
   "outputs": [
    {
     "data": {
      "text/plain": "array([[<AxesSubplot:title={'center':'Heads'}>]], dtype=object)"
     },
     "execution_count": 20,
     "metadata": {},
     "output_type": "execute_result"
    },
    {
     "data": {
      "text/plain": "<Figure size 640x480 with 1 Axes>",
      "image/png": "[encoded data removed]"
     },
     "metadata": {},
     "output_type": "display_data"
    }
   ],
   "source": [
    "df_coin = pd.DataFrame({\n",
    "    'Heads': number_of_heads_100\n",
    "})\n",
    "df_coin.hist(\n",
    "    bins=range(6),\n",
    "    align = 'left'\n",
    ")"
   ],
   "metadata": {
    "collapsed": false,
    "pycharm": {
     "name": "#%%\n"
    }
   }
  },
  {
   "cell_type": "markdown",
   "source": [
    "We can use the .value_counts() method to compute the frequency. We use the inputs\n",
    "sort=False so that the values are not sorted and normalize=True to compute the relative\n",
    "freqiencies."
   ],
   "metadata": {
    "collapsed": false,
    "pycharm": {
     "name": "#%% md\n"
    }
   }
  },
  {
   "cell_type": "code",
   "execution_count": 21,
   "outputs": [
    {
     "data": {
      "text/plain": "   Simulation\n2        0.38\n3        0.35\n1        0.20\n0        0.05\n4        0.02",
      "text/html": "<div>\n<style scoped>\n    .dataframe tbody tr th:only-of-type {\n        vertical-align: middle;\n    }\n\n    .dataframe tbody tr th {\n        vertical-align: top;\n    }\n\n    .dataframe thead th {\n        text-align: right;\n    }\n</style>\n<table border=\"1\" class=\"dataframe\">\n  <thead>\n    <tr style=\"text-align: right;\">\n      <th></th>\n      <th>Simulation</th>\n    </tr>\n  </thead>\n  <tbody>\n    <tr>\n      <th>2</th>\n      <td>0.38</td>\n    </tr>\n    <tr>\n      <th>3</th>\n      <td>0.35</td>\n    </tr>\n    <tr>\n      <th>1</th>\n      <td>0.20</td>\n    </tr>\n    <tr>\n      <th>0</th>\n      <td>0.05</td>\n    </tr>\n    <tr>\n      <th>4</th>\n      <td>0.02</td>\n    </tr>\n  </tbody>\n</table>\n</div>"
     },
     "execution_count": 21,
     "metadata": {},
     "output_type": "execute_result"
    }
   ],
   "source": [
    "df_frequnecy = pd.DataFrame({\n",
    "    'Simulation' : df_coin['Heads'].value_counts(sort=False, normalize=True)\n",
    "})\n",
    "df_frequnecy"
   ],
   "metadata": {
    "collapsed": false,
    "pycharm": {
     "name": "#%%\n"
    }
   }
  },
  {
   "cell_type": "markdown",
   "source": [
    "Let us see how this compares to the theoretical model discussed above."
   ],
   "metadata": {
    "collapsed": false,
    "pycharm": {
     "name": "#%% md\n"
    }
   }
  },
  {
   "cell_type": "code",
   "execution_count": 23,
   "outputs": [
    {
     "data": {
      "text/plain": "   Simulation  Theoretical\n2        0.38       0.3750\n3        0.35       0.2500\n1        0.20       0.2500\n0        0.05       0.0625\n4        0.02       0.0625",
      "text/html": "<div>\n<style scoped>\n    .dataframe tbody tr th:only-of-type {\n        vertical-align: middle;\n    }\n\n    .dataframe tbody tr th {\n        vertical-align: top;\n    }\n\n    .dataframe thead th {\n        text-align: right;\n    }\n</style>\n<table border=\"1\" class=\"dataframe\">\n  <thead>\n    <tr style=\"text-align: right;\">\n      <th></th>\n      <th>Simulation</th>\n      <th>Theoretical</th>\n    </tr>\n  </thead>\n  <tbody>\n    <tr>\n      <th>2</th>\n      <td>0.38</td>\n      <td>0.3750</td>\n    </tr>\n    <tr>\n      <th>3</th>\n      <td>0.35</td>\n      <td>0.2500</td>\n    </tr>\n    <tr>\n      <th>1</th>\n      <td>0.20</td>\n      <td>0.2500</td>\n    </tr>\n    <tr>\n      <th>0</th>\n      <td>0.05</td>\n      <td>0.0625</td>\n    </tr>\n    <tr>\n      <th>4</th>\n      <td>0.02</td>\n      <td>0.0625</td>\n    </tr>\n  </tbody>\n</table>\n</div>"
     },
     "execution_count": 23,
     "metadata": {},
     "output_type": "execute_result"
    }
   ],
   "source": [
    "n = 4\n",
    "k = df_frequnecy.index\n",
    "p = 0.5\n",
    "df_frequnecy['Theoretical'] = binom(n, k) * p**k * (1-p) ** (n-k)\n",
    "df_frequnecy"
   ],
   "metadata": {
    "collapsed": false,
    "pycharm": {
     "name": "#%%\n"
    }
   }
  },
  {
   "cell_type": "markdown",
   "source": [
    "Let us make plot of the final result."
   ],
   "metadata": {
    "collapsed": false,
    "pycharm": {
     "name": "#%% md\n"
    }
   }
  },
  {
   "cell_type": "code",
   "execution_count": 25,
   "outputs": [
    {
     "data": {
      "text/plain": "Text(0.5, 0, 'Number of ones when rolling a dice four times')"
     },
     "execution_count": 25,
     "metadata": {},
     "output_type": "execute_result"
    },
    {
     "data": {
      "text/plain": "<Figure size 640x480 with 1 Axes>",
      "image/png": "[encoded data removed]"
     },
     "metadata": {},
     "output_type": "display_data"
    }
   ],
   "source": [
    "df_frequnecy.plot.bar()\n",
    "plt.ylabel('Relative frequency')\n",
    "plt.xlabel('Number of ones when rolling a dice four times')"
   ],
   "metadata": {
    "collapsed": false,
    "pycharm": {
     "name": "#%%\n"
    }
   }
  },
  {
   "cell_type": "markdown",
   "source": [
    "Since we have a random sample of dice rolles we we see some deviations between the simulated data and the theoreitcal prediction"
   ],
   "metadata": {
    "collapsed": false,
    "pycharm": {
     "name": "#%% md\n"
    }
   }
  },
  {
   "cell_type": "markdown",
   "source": [
    "## 9.4.2 Roll a die"
   ],
   "metadata": {
    "collapsed": false,
    "pycharm": {
     "name": "#%% md\n"
    }
   }
  },
  {
   "cell_type": "markdown",
   "source": [
    "If we role a dice, then the probability is p = 1=6 for rolling a one. Here is a simulation of roling\n",
    "four dices and then counting the number of ones. The rolls is performed one hundered times."
   ],
   "metadata": {
    "collapsed": false,
    "pycharm": {
     "name": "#%% md\n"
    }
   }
  },
  {
   "cell_type": "code",
   "execution_count": 26,
   "outputs": [
    {
     "name": "stdout",
     "output_type": "stream",
     "text": [
      "[0 1 0 0 2 0 1 0 1 3 0 0 0 1 0 0 2 0 2 1 0 1 1 0 1 1 1 1 0 1 1 1 0 2 0 1 1\n",
      " 1 1 1 2 0 1 1 1 1 0 1 1 0 1 0 2 2 1 1 0 0 0 0 0 1 2 1 0 1 1 0 2 0 2 1 0 0\n",
      " 1 0 2 1 0 0 0 1 0 0 2 1 3 0 0 0 1 1 1 0 2 0 1 1 0 1]\n"
     ]
    }
   ],
   "source": [
    "n = 4\n",
    "p = 1/6\n",
    "number_of_ones = binomial(n, p, size=100)\n",
    "print(number_of_ones)"
   ],
   "metadata": {
    "collapsed": false,
    "pycharm": {
     "name": "#%%\n"
    }
   }
  },
  {
   "cell_type": "code",
   "execution_count": 27,
   "outputs": [
    {
     "data": {
      "text/plain": "0    0.42\n1    0.43\n2    0.13\n3    0.02\nName: ones, dtype: float64"
     },
     "execution_count": 27,
     "metadata": {},
     "output_type": "execute_result"
    }
   ],
   "source": [
    "df_dice = pd.DataFrame({\n",
    "    'ones': number_of_ones\n",
    "})\n",
    "df_dice['ones'].value_counts(sort=False, normalize=True)"
   ],
   "metadata": {
    "collapsed": false,
    "pycharm": {
     "name": "#%%\n"
    }
   }
  },
  {
   "cell_type": "code",
   "execution_count": 28,
   "outputs": [
    {
     "data": {
      "text/plain": "<AxesSubplot:ylabel='Frequency'>"
     },
     "execution_count": 28,
     "metadata": {},
     "output_type": "execute_result"
    },
    {
     "data": {
      "text/plain": "<Figure size 640x480 with 1 Axes>",
      "image/png": "[encoded data removed]"
     },
     "metadata": {},
     "output_type": "display_data"
    }
   ],
   "source": [
    "df_dice.plot.hist(\n",
    "    bins=range(6),\n",
    "    align = 'left'\n",
    ")"
   ],
   "metadata": {
    "collapsed": false,
    "pycharm": {
     "name": "#%%\n"
    }
   }
  },
  {
   "cell_type": "markdown",
   "source": [
    "## Exercise 9.6: The distribution of dice rolls\n",
    "The main text showed how we could use Python to simulate rolling a dice four times.\n",
    "1. Make your own Jupyter Notebook with the simulation of rolling a dice four times\n",
    "with N = 100 (the same as done in the text)."
   ],
   "metadata": {
    "collapsed": false,
    "pycharm": {
     "name": "#%% md\n"
    }
   }
  },
  {
   "cell_type": "code",
   "execution_count": 40,
   "outputs": [
    {
     "data": {
      "text/plain": "array([0, 1, 0, 1, 1, 3, 2, 1, 0, 1, 1, 1, 0, 0, 0, 1, 0, 3, 1, 1, 1, 3,\n       1, 0, 1, 0, 0, 1, 2, 0, 1, 0, 0, 1, 0, 2, 1, 0, 0, 1, 2, 0, 1, 0,\n       1, 2, 0, 0, 0, 2, 2, 2, 0, 2, 1, 0, 0, 1, 1, 0, 0, 1, 1, 2, 2, 1,\n       0, 1, 1, 0, 2, 0, 1, 0, 0, 0, 0, 0, 0, 0, 1, 2, 1, 0, 0, 1, 1, 0,\n       1, 0, 0, 0, 1, 1, 1, 0, 0, 2, 0, 0])"
     },
     "execution_count": 40,
     "metadata": {},
     "output_type": "execute_result"
    }
   ],
   "source": [
    "n = 4\n",
    "p = 1/6\n",
    "four_dices_rolled_100_times = binomial(n, p, size=100)\n",
    "four_dices_rolled_100_times"
   ],
   "metadata": {
    "collapsed": false,
    "pycharm": {
     "name": "#%%\n"
    }
   }
  },
  {
   "cell_type": "markdown",
   "source": [
    "d"
   ],
   "metadata": {
    "collapsed": false,
    "pycharm": {
     "name": "#%% md\n"
    }
   }
  },
  {
   "cell_type": "code",
   "execution_count": 47,
   "outputs": [
    {
     "data": {
      "text/plain": "array([[<AxesSubplot:title={'center':'Heads'}>]], dtype=object)"
     },
     "execution_count": 47,
     "metadata": {},
     "output_type": "execute_result"
    },
    {
     "data": {
      "text/plain": "<Figure size 640x480 with 1 Axes>",
      "image/png": "[encoded data removed]"
     },
     "metadata": {},
     "output_type": "display_data"
    }
   ],
   "source": [
    "df_coin_ones = pd.DataFrame({\n",
    "    'Ones': four_dices_rolled_100_times\n",
    "})\n",
    "\n",
    "df_coin.hist(\n",
    "    bins=range(6),\n",
    "    align='left'\n",
    ")"
   ],
   "metadata": {
    "collapsed": false,
    "pycharm": {
     "name": "#%%\n"
    }
   }
  },
  {
   "cell_type": "code",
   "execution_count": 52,
   "outputs": [
    {
     "data": {
      "text/plain": "   Simulation\n0        0.46\n1        0.37\n3        0.03\n2        0.14",
      "text/html": "<div>\n<style scoped>\n    .dataframe tbody tr th:only-of-type {\n        vertical-align: middle;\n    }\n\n    .dataframe tbody tr th {\n        vertical-align: top;\n    }\n\n    .dataframe thead th {\n        text-align: right;\n    }\n</style>\n<table border=\"1\" class=\"dataframe\">\n  <thead>\n    <tr style=\"text-align: right;\">\n      <th></th>\n      <th>Simulation</th>\n    </tr>\n  </thead>\n  <tbody>\n    <tr>\n      <th>0</th>\n      <td>0.46</td>\n    </tr>\n    <tr>\n      <th>1</th>\n      <td>0.37</td>\n    </tr>\n    <tr>\n      <th>3</th>\n      <td>0.03</td>\n    </tr>\n    <tr>\n      <th>2</th>\n      <td>0.14</td>\n    </tr>\n  </tbody>\n</table>\n</div>"
     },
     "execution_count": 52,
     "metadata": {},
     "output_type": "execute_result"
    }
   ],
   "source": [
    "df_coin_frequency = pd.DataFrame({\n",
    "    'Simulation': df_coin_ones['Ones'].value_counts(sort=False, normalize=True)\n",
    "    })\n",
    "df_coin_frequency"
   ],
   "metadata": {
    "collapsed": false,
    "pycharm": {
     "name": "#%%\n"
    }
   }
  },
  {
   "cell_type": "code",
   "execution_count": 53,
   "outputs": [],
   "source": [
    "# Compare it to the theoretical model\n",
    "n = 4\n",
    "k = df_coin_frequency.index\n",
    "p = 1/6\n",
    "df_coin_frequency['Theoretical'] = binom(n, k) * p ** k * (1-p) ** (n-k)"
   ],
   "metadata": {
    "collapsed": false,
    "pycharm": {
     "name": "#%%\n"
    }
   }
  },
  {
   "cell_type": "code",
   "execution_count": 54,
   "outputs": [
    {
     "data": {
      "text/plain": "   Simulation  Theoretical\n0        0.46     0.482253\n1        0.37     0.385802\n3        0.03     0.015432\n2        0.14     0.115741",
      "text/html": "<div>\n<style scoped>\n    .dataframe tbody tr th:only-of-type {\n        vertical-align: middle;\n    }\n\n    .dataframe tbody tr th {\n        vertical-align: top;\n    }\n\n    .dataframe thead th {\n        text-align: right;\n    }\n</style>\n<table border=\"1\" class=\"dataframe\">\n  <thead>\n    <tr style=\"text-align: right;\">\n      <th></th>\n      <th>Simulation</th>\n      <th>Theoretical</th>\n    </tr>\n  </thead>\n  <tbody>\n    <tr>\n      <th>0</th>\n      <td>0.46</td>\n      <td>0.482253</td>\n    </tr>\n    <tr>\n      <th>1</th>\n      <td>0.37</td>\n      <td>0.385802</td>\n    </tr>\n    <tr>\n      <th>3</th>\n      <td>0.03</td>\n      <td>0.015432</td>\n    </tr>\n    <tr>\n      <th>2</th>\n      <td>0.14</td>\n      <td>0.115741</td>\n    </tr>\n  </tbody>\n</table>\n</div>"
     },
     "execution_count": 54,
     "metadata": {},
     "output_type": "execute_result"
    }
   ],
   "source": [
    "df_coin_frequency"
   ],
   "metadata": {
    "collapsed": false,
    "pycharm": {
     "name": "#%%\n"
    }
   }
  },
  {
   "cell_type": "code",
   "execution_count": 58,
   "outputs": [
    {
     "data": {
      "text/plain": "<Figure size 640x480 with 1 Axes>",
      "image/png": "[encoded data removed]"
     },
     "metadata": {},
     "output_type": "display_data"
    }
   ],
   "source": [
    "df_coin_frequency.plot.bar()\n",
    "plt.ylabel('Relative Frequency')\n",
    "plt.xlabel('Number of ones when rolling the dice four times')"
   ],
   "metadata": {
    "collapsed": false,
    "pycharm": {
     "name": "#%%\n"
    }
   }
  },
  {
   "cell_type": "markdown",
   "source": [
    "## Exercise 9.7: Yatzy role using Python*\n",
    "(Optional) Five dices are rolled in the first round of a Yatzy game. The best role of the\n",
    "game is where all dices show a six. In this exercise, we will investigate the probability of\n",
    "such a lucky roll. First, we will make a simulations that mimics how we would estimate\n",
    "this from empirical data. Last, we will compare the results to the theoretical prediction\n",
    "utilizing the binomial distribution.\n",
    "1. Use Python to simulate N =1 000 000 (one million) Yatzy roles where the number\n",
    "of sixes is counted in each role. Hint: See page 140 where we used Python to\n",
    "simulate dice rolls of a Yatzy game.\n"
   ],
   "metadata": {
    "collapsed": false,
    "pycharm": {
     "name": "#%% md\n"
    }
   }
  },
  {
   "cell_type": "code",
   "execution_count": 72,
   "outputs": [
    {
     "data": {
      "text/plain": "          Sixes\n0             2\n1             2\n2             1\n3             3\n4             0\n...         ...\n99999995      1\n99999996      1\n99999997      0\n99999998      1\n99999999      1\n\n[100000000 rows x 1 columns]",
      "text/html": "<div>\n<style scoped>\n    .dataframe tbody tr th:only-of-type {\n        vertical-align: middle;\n    }\n\n    .dataframe tbody tr th {\n        vertical-align: top;\n    }\n\n    .dataframe thead th {\n        text-align: right;\n    }\n</style>\n<table border=\"1\" class=\"dataframe\">\n  <thead>\n    <tr style=\"text-align: right;\">\n      <th></th>\n      <th>Sixes</th>\n    </tr>\n  </thead>\n  <tbody>\n    <tr>\n      <th>0</th>\n      <td>2</td>\n    </tr>\n    <tr>\n      <th>1</th>\n      <td>2</td>\n    </tr>\n    <tr>\n      <th>2</th>\n      <td>1</td>\n    </tr>\n    <tr>\n      <th>3</th>\n      <td>3</td>\n    </tr>\n    <tr>\n      <th>4</th>\n      <td>0</td>\n    </tr>\n    <tr>\n      <th>...</th>\n      <td>...</td>\n    </tr>\n    <tr>\n      <th>99999995</th>\n      <td>1</td>\n    </tr>\n    <tr>\n      <th>99999996</th>\n      <td>1</td>\n    </tr>\n    <tr>\n      <th>99999997</th>\n      <td>0</td>\n    </tr>\n    <tr>\n      <th>99999998</th>\n      <td>1</td>\n    </tr>\n    <tr>\n      <th>99999999</th>\n      <td>1</td>\n    </tr>\n  </tbody>\n</table>\n<p>100000000 rows × 1 columns</p>\n</div>"
     },
     "execution_count": 72,
     "metadata": {},
     "output_type": "execute_result"
    }
   ],
   "source": [
    "n = 6\n",
    "p = 1/6\n",
    "numberOfSixesInYatzy = binomial(n,p,size=100000000)\n",
    "dfYatzySixes = pd.DataFrame({\n",
    "    'Sixes': numberOfSixesInYatzy\n",
    "})\n",
    "dfYatzySixes"
   ],
   "metadata": {
    "collapsed": false,
    "pycharm": {
     "name": "#%%\n"
    }
   }
  },
  {
   "cell_type": "markdown",
   "source": [
    "2. Plot the histogram of number of sixes in each game."
   ],
   "metadata": {
    "collapsed": false,
    "pycharm": {
     "name": "#%% md\n"
    }
   }
  },
  {
   "cell_type": "code",
   "execution_count": 73,
   "outputs": [
    {
     "data": {
      "text/plain": "Text(0.5, 0, 'Number of sixes')"
     },
     "execution_count": 73,
     "metadata": {},
     "output_type": "execute_result"
    },
    {
     "data": {
      "text/plain": "<Figure size 640x480 with 1 Axes>",
      "image/png": "[encoded data removed]"
     },
     "metadata": {},
     "output_type": "display_data"
    }
   ],
   "source": [
    "dfYatzySixes.plot.hist(bins = 4)\n",
    "plt.xlabel('Number of sixes')"
   ],
   "metadata": {
    "collapsed": false,
    "pycharm": {
     "name": "#%%\n"
    }
   }
  },
  {
   "cell_type": "markdown",
   "source": [
    "3. How many times are all dices sixes in your simulation. What is your best estimate\n",
    "of the probability of rolling six sixes in the first role (using your simulated data).\n"
   ],
   "metadata": {
    "collapsed": false,
    "pycharm": {
     "name": "#%% md\n"
    }
   }
  },
  {
   "cell_type": "code",
   "execution_count": 75,
   "outputs": [
    {
     "data": {
      "text/plain": "1    0.401866\n0    0.334923\n2    0.200903\n3    0.053593\n4    0.008051\n5    0.000642\n6    0.000022\nName: Sixes, dtype: float64"
     },
     "execution_count": 75,
     "metadata": {},
     "output_type": "execute_result"
    }
   ],
   "source": [
    "dfYatzySixes['Sixes'].value_counts(6)"
   ],
   "metadata": {
    "collapsed": false,
    "pycharm": {
     "name": "#%%\n"
    }
   }
  },
  {
   "cell_type": "code",
   "execution_count": null,
   "outputs": [],
   "source": [
    "4. Plot the theoretical distribution of the number of sixes in each game. Hint: See\n",
    "how the binomial probabilities was computed for coin flips on page 151.\n",
    "5. What is the theoretical prediction for the probability to roll all sixes in a Yatzy\n",
    "roll."
   ],
   "metadata": {
    "collapsed": false,
    "pycharm": {
     "name": "#%%\n"
    }
   }
  },
  {
   "cell_type": "markdown",
   "source": [],
   "metadata": {
    "collapsed": false,
    "pycharm": {
     "name": "#%% md\n"
    }
   }
  },
  {
   "cell_type": "code",
   "execution_count": null,
   "outputs": [],
   "source": [],
   "metadata": {
    "collapsed": false,
    "pycharm": {
     "name": "#%%\n"
    }
   }
  }
 ],
 "metadata": {
  "kernelspec": {
   "display_name": "Python 3",
   "language": "python",
   "name": "python3"
  },
  "language_info": {
   "codemirror_mode": {
    "name": "ipython",
    "version": 2
   },
   "file_extension": ".py",
   "mimetype": "text/x-python",
   "name": "python",
   "nbconvert_exporter": "python",
   "pygments_lexer": "ipython2",
   "version": "2.7.6"
  }
 },
 "nbformat": 4,
 "nbformat_minor": 0
}