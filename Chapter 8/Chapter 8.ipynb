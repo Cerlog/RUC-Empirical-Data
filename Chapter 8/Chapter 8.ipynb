{
 "cells": [
  {
   "cell_type": "markdown",
   "source": [
    "## 8.4 Simulating probabilistic events with Python"
   ],
   "metadata": {
    "collapsed": false,
    "pycharm": {
     "name": "#%% md\n"
    }
   }
  },
  {
   "cell_type": "code",
   "execution_count": 1,
   "outputs": [],
   "source": [
    "import matplotlib.pyplot as plt\n",
    "import numpy as np\n",
    "import pandas as pd\n",
    "from numpy.random import randint"
   ],
   "metadata": {
    "collapsed": false,
    "pycharm": {
     "name": "#%%\n"
    }
   }
  },
  {
   "cell_type": "markdown",
   "source": [
    "The input to the randint function is the range of the sampling space starting from 0 (Python\n",
    "start counting at zero). If we want to make a coin toss, where 0 represents tail and 1 represents\n",
    "head, then we use randint like this."
   ],
   "metadata": {
    "collapsed": false,
    "pycharm": {
     "name": "#%% md\n"
    }
   }
  },
  {
   "cell_type": "code",
   "execution_count": 2,
   "outputs": [
    {
     "data": {
      "text/plain": "0"
     },
     "execution_count": 2,
     "metadata": {},
     "output_type": "execute_result"
    }
   ],
   "source": [
    "one_coin_toss = randint(2)\n",
    "one_coin_toss"
   ],
   "metadata": {
    "collapsed": false,
    "pycharm": {
     "name": "#%%\n"
    }
   }
  },
  {
   "cell_type": "markdown",
   "source": [
    "If we want to make a dice roll, where the sampling space is {1; 2; 3; 4; 5; 6}"
   ],
   "metadata": {
    "collapsed": false,
    "pycharm": {
     "name": "#%% md\n"
    }
   }
  },
  {
   "cell_type": "code",
   "execution_count": 3,
   "outputs": [
    {
     "data": {
      "text/plain": "2"
     },
     "execution_count": 3,
     "metadata": {},
     "output_type": "execute_result"
    }
   ],
   "source": [
    "one_dice_roll = randint(6) + 1\n",
    "one_dice_roll"
   ],
   "metadata": {
    "collapsed": false,
    "pycharm": {
     "name": "#%%\n"
    }
   }
  },
  {
   "cell_type": "markdown",
   "source": [
    "We add one since randint(6) returns numbers from the sampling space f0; 1; 2; 3; 4; 5g. We\n",
    "can get several random values by using the input size=, where randint then returns the values\n",
    "in a NumPy Array. Here is an example of rolling ten dices."
   ],
   "metadata": {
    "collapsed": false,
    "pycharm": {
     "name": "#%% md\n"
    }
   }
  },
  {
   "cell_type": "code",
   "execution_count": 4,
   "outputs": [
    {
     "data": {
      "text/plain": "array([6, 2, 5, 6, 4, 3, 1, 3, 2, 3])"
     },
     "execution_count": 4,
     "metadata": {},
     "output_type": "execute_result"
    }
   ],
   "source": [
    "ten_dice_rolls = randint(6, size=10) + 1\n",
    "ten_dice_rolls"
   ],
   "metadata": {
    "collapsed": false,
    "pycharm": {
     "name": "#%%\n"
    }
   }
  },
  {
   "cell_type": "markdown",
   "source": [
    "The input size= can also be a tuple, then randint returns a multi-dimensional Array."
   ],
   "metadata": {
    "collapsed": false,
    "pycharm": {
     "name": "#%% md\n"
    }
   }
  },
  {
   "cell_type": "code",
   "execution_count": 5,
   "outputs": [
    {
     "data": {
      "text/plain": "array([[5, 6],\n       [6, 2],\n       [1, 1]])"
     },
     "execution_count": 5,
     "metadata": {},
     "output_type": "execute_result"
    }
   ],
   "source": [
    "three_rolls_with_two_dice = randint(6, size=(3,2)) + 1\n",
    "three_rolls_with_two_dice"
   ],
   "metadata": {
    "collapsed": false,
    "pycharm": {
     "name": "#%%\n"
    }
   }
  },
  {
   "cell_type": "markdown",
   "source": [
    "#### Random integers in a DataFrame\n",
    "A key element of many board games is to roll two dice and sum their values. Make a histogram\n",
    "of the probability of one million dice rolls. That would take a long time if we had to do it.\n",
    "Luckily we can use the computer to simulate such an experiment using pseudo-random numbers.\n",
    "First, let us look at just rolling two dice three times. Thus we need a total of ten dice rolls in a three by two table."
   ],
   "metadata": {
    "collapsed": false,
    "pycharm": {
     "name": "#%% md\n"
    }
   }
  },
  {
   "cell_type": "code",
   "execution_count": 6,
   "outputs": [
    {
     "data": {
      "text/plain": "array([[2, 4],\n       [6, 5],\n       [5, 3]])"
     },
     "execution_count": 6,
     "metadata": {},
     "output_type": "execute_result"
    }
   ],
   "source": [
    "rolls = 3\n",
    "dice = 2\n",
    "dice_rolls = randint(6, size=(rolls, dice)) + 1\n",
    "dice_rolls"
   ],
   "metadata": {
    "collapsed": false,
    "pycharm": {
     "name": "#%%\n"
    }
   }
  },
  {
   "cell_type": "markdown",
   "source": [
    "Let us add random dice roles to a DataFrame."
   ],
   "metadata": {
    "collapsed": false,
    "pycharm": {
     "name": "#%% md\n"
    }
   }
  },
  {
   "cell_type": "code",
   "execution_count": 7,
   "outputs": [
    {
     "data": {
      "text/plain": "   0  1\n0  5  5\n1  3  1\n2  1  2",
      "text/html": "<div>\n<style scoped>\n    .dataframe tbody tr th:only-of-type {\n        vertical-align: middle;\n    }\n\n    .dataframe tbody tr th {\n        vertical-align: top;\n    }\n\n    .dataframe thead th {\n        text-align: right;\n    }\n</style>\n<table border=\"1\" class=\"dataframe\">\n  <thead>\n    <tr style=\"text-align: right;\">\n      <th></th>\n      <th>0</th>\n      <th>1</th>\n    </tr>\n  </thead>\n  <tbody>\n    <tr>\n      <th>0</th>\n      <td>5</td>\n      <td>5</td>\n    </tr>\n    <tr>\n      <th>1</th>\n      <td>3</td>\n      <td>1</td>\n    </tr>\n    <tr>\n      <th>2</th>\n      <td>1</td>\n      <td>2</td>\n    </tr>\n  </tbody>\n</table>\n</div>"
     },
     "execution_count": 7,
     "metadata": {},
     "output_type": "execute_result"
    }
   ],
   "source": [
    "df = pd.DataFrame(\n",
    "    data=randint(6, size=(rolls, dice)) + 1\n",
    ")\n",
    "df"
   ],
   "metadata": {
    "collapsed": false,
    "pycharm": {
     "name": "#%%\n"
    }
   }
  },
  {
   "cell_type": "markdown",
   "source": [
    "We can now create series of the sums."
   ],
   "metadata": {
    "collapsed": false,
    "pycharm": {
     "name": "#%% md\n"
    }
   }
  },
  {
   "cell_type": "code",
   "execution_count": 9,
   "outputs": [
    {
     "data": {
      "text/plain": "0    10\n1     4\n2     3\ndtype: int64"
     },
     "execution_count": 9,
     "metadata": {},
     "output_type": "execute_result"
    }
   ],
   "source": [
    "dice_sums = df.sum(axis='columns')\n",
    "dice_sums"
   ],
   "metadata": {
    "collapsed": false,
    "pycharm": {
     "name": "#%%\n"
    }
   }
  },
  {
   "cell_type": "markdown",
   "source": [
    "We can do the same for ten thousand rolls of two dice. This time we will not print the result\n",
    "(to save paper), but only show a histogram."
   ],
   "metadata": {
    "collapsed": false,
    "pycharm": {
     "name": "#%% md\n"
    }
   }
  },
  {
   "cell_type": "code",
   "execution_count": 11,
   "outputs": [
    {
     "data": {
      "text/plain": "Text(0.5, 0, 'Sum of two dice rolls')"
     },
     "execution_count": 11,
     "metadata": {},
     "output_type": "execute_result"
    },
    {
     "data": {
      "text/plain": "<Figure size 640x480 with 1 Axes>",
      "image/png": "[encoded data removed]"
     },
     "metadata": {},
     "output_type": "display_data"
    }
   ],
   "source": [
    "### Simulate rolls\n",
    "df = pd.DataFrame(randint(6, size=(10000, 2)) + 1)\n",
    "dice_sums = df.sum(axis='columns')\n",
    "\n",
    "# plot histogram\n",
    "dice_sums.plot.hist(\n",
    "    bins = range(1,14), # Bins of width one_coin_toss\n",
    "    density = True, # Plot the relative frequency (density)\n",
    "    align='left' # Align numbers to the left of the bin\n",
    ")\n",
    "plt.ylabel('Relative frequency')\n",
    "plt.xlabel('Sum of two dice rolls')"
   ],
   "metadata": {
    "collapsed": false,
    "pycharm": {
     "name": "#%%\n"
    }
   }
  },
  {
   "cell_type": "markdown",
   "source": [
    "This result should be familiar to board game fans, i.e. we see that the most likely outcome is\n",
    "that the sum of two dice is seven (1=6 ' 16:7% of the rolls)."
   ],
   "metadata": {
    "collapsed": false,
    "pycharm": {
     "name": "#%% md\n"
    }
   }
  },
  {
   "cell_type": "markdown",
   "source": [
    "## 8.4.1 Five dice rolled ten thousand times\n",
    "\n",
    "Five dice are rolled in the game of Yatzy. Below we see how the histogram of the sums will\n",
    "look if we roll five dice instead of two. We only have to change the above code a few places."
   ],
   "metadata": {
    "collapsed": false,
    "pycharm": {
     "name": "#%% md\n"
    }
   }
  },
  {
   "cell_type": "markdown",
   "source": [
    "### Simulate rolls\n",
    "df = pd.DataFrame(randint(6, size=(10000, 5)) +1) # 10000 rolls, 5 dices\n",
    "dice_sums = df.sum(axis='columns')\n",
    "\n",
    "dice_sums.plot.hist(\n",
    "    bins=range(1, 32),\n",
    "    density = True,\n",
    "    align = 'left'\n",
    ")\n",
    "\n",
    "plt.ylabel('Relative frequency')\n",
    "plt.xlabel('Sum of five dice rolls')\n",
    "\n",
    "# Plot normal distribution on top\n",
    "start, stop, step = 0, 32, 0.1\n",
    "x = np.arange(start, stop, step)\n",
    "mu = dice_sums.mean()\n",
    "sigma = dice_sums.std()\n",
    "pi = np.pi\n",
    "N = np.sqrt(2*pi*sigma**2)\n",
    "f = np.exp(-0.5*((x-mu))**2/sigma**2)/N\n",
    "plt.plot(x, f, 'r')\n",
    "print(f'Mean: {mu} Standard deviation: {sigma}')\n"
   ],
   "metadata": {
    "collapsed": false,
    "pycharm": {
     "name": "#%% md\n"
    }
   }
  },
  {
   "cell_type": "markdown",
   "source": [
    "The red line is the so-called normal distribution (with the same mean and standard deviation).\n",
    "This result is an example of the general effect that distributions tend to look like the\n",
    "normal distribution when adding many random events (known as the the central limit theoremThis distribution is typical for the distribution of continuous data. This distribution is\n",
    "discussed later in the compendium."
   ],
   "metadata": {
    "collapsed": false,
    "pycharm": {
     "name": "#%% md\n"
    }
   }
  },
  {
   "cell_type": "markdown",
   "source": [
    "## Excercise 8.7 Flipping Coin"
   ],
   "metadata": {
    "collapsed": false,
    "pycharm": {
     "name": "#%% md\n"
    }
   }
  },
  {
   "cell_type": "code",
   "execution_count": null,
   "outputs": [],
   "source": [],
   "metadata": {
    "collapsed": false,
    "pycharm": {
     "name": "#%%\n"
    }
   }
  }
 ],
 "metadata": {
  "kernelspec": {
   "display_name": "Python 3",
   "language": "python",
   "name": "python3"
  },
  "language_info": {
   "codemirror_mode": {
    "name": "ipython",
    "version": 2
   },
   "file_extension": ".py",
   "mimetype": "text/x-python",
   "name": "python",
   "nbconvert_exporter": "python",
   "pygments_lexer": "ipython2",
   "version": "2.7.6"
  }
 },
 "nbformat": 4,
 "nbformat_minor": 0
}